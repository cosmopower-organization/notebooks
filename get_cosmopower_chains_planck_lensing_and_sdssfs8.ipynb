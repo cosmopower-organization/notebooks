{
 "cells": [
  {
   "cell_type": "markdown",
   "id": "ac99cae1-dd42-4603-8aa5-82952d01fd53",
   "metadata": {},
   "source": [
    "# Prerequisites"
   ]
  },
  {
   "cell_type": "markdown",
   "id": "9080465b-7fca-4fcf-b3bb-b87867a1b2aa",
   "metadata": {},
   "source": [
    "## cosmopower"
   ]
  },
  {
   "cell_type": "markdown",
   "id": "9d84e201-ceaf-4abe-9b80-8772b7bf09c7",
   "metadata": {},
   "source": [
    "To install cosmopower, visit:\n",
    "\n",
    "https://github.com/alessiospuriomancini/cosmopower\n",
    "\n",
    "\n",
    "Check cosmopower is installed:"
   ]
  },
  {
   "cell_type": "code",
   "execution_count": 1,
   "id": "29933714-ef8b-4c2b-8cfc-9add6f1e7d3c",
   "metadata": {},
   "outputs": [],
   "source": [
    "import cosmopower"
   ]
  },
  {
   "cell_type": "markdown",
   "id": "9e9114e6-73ab-4596-977b-2b3224c5a264",
   "metadata": {},
   "source": [
    "## cobaya"
   ]
  },
  {
   "cell_type": "markdown",
   "id": "d23e35a7-4b85-4849-b349-ef6af53a1a24",
   "metadata": {},
   "source": [
    "To install cobaya, visit: \n",
    "\n",
    "https://cobaya.readthedocs.io/en/latest/installation.html\n",
    "\n",
    "Check cobaya is installed:"
   ]
  },
  {
   "cell_type": "code",
   "execution_count": 2,
   "id": "8ae082cd-0917-4cca-a76c-61340544c6e7",
   "metadata": {},
   "outputs": [],
   "source": [
    "import cobaya"
   ]
  },
  {
   "cell_type": "markdown",
   "id": "36c6e0a5-c9d9-4929-b94b-09bcde3e2cbc",
   "metadata": {},
   "source": [
    "## getdist"
   ]
  },
  {
   "cell_type": "markdown",
   "id": "b6b6a8d1-1ae6-4bea-8b59-c626b2ef54bd",
   "metadata": {},
   "source": [
    "To install getdist, visit:\n",
    "\n",
    "https://getdist.readthedocs.io/en/latest/intro.html\n",
    "\n",
    "Check getdist is installed\n"
   ]
  },
  {
   "cell_type": "code",
   "execution_count": 3,
   "id": "3be39aac-329f-468a-aebc-c9466b82dd67",
   "metadata": {},
   "outputs": [],
   "source": [
    "import getdist"
   ]
  },
  {
   "cell_type": "markdown",
   "id": "b4886569-c0cc-469f-9173-12dd28743557",
   "metadata": {},
   "source": [
    "## soliket"
   ]
  },
  {
   "cell_type": "markdown",
   "id": "a329d855-c7ca-4e9f-83b4-75074cf090f7",
   "metadata": {},
   "source": [
    "To install soliket, visit:\n",
    "\n",
    "https://github.com/simonsobs/SOLikeT\n",
    "\n",
    "IMPORTANT: you need to be on the branch called dev-cosmopower-organization\n",
    "\n",
    "To check that, use the terminal to move inside the SOLikeT repository and do:\n",
    "\n",
    "$ git branch -a\n",
    "\n",
    "This should print the list of all branches and you should see an asterisk next to the name dev-cosmopower-organization"
   ]
  },
  {
   "cell_type": "markdown",
   "id": "3555edfe-74da-4835-95c6-c738cf1d2132",
   "metadata": {},
   "source": [
    "## cosmopower emulators\n",
    "\n",
    "Make a cosmopower-organtization repository to store the emulaotors. It can be wherever on your system: <br>\n",
    "\n",
    "$ mkdir cosmopower-organtization <br>\n",
    "\n",
    "Then clone the emulators inside it: <br>\n",
    "\n",
    "$ cd cosmopower-organtization <br>\n",
    "\n",
    "$ git clone https://github.com/cosmopower-organization/lcdm.git <br>\n",
    "\n",
    "Now we need to set the path to this repository. <br>\n",
    "Mine is just one level above where we are now, so: (adapt to your needs!)"
   ]
  },
  {
   "cell_type": "code",
   "execution_count": 4,
   "id": "37701d83-4dad-4770-89b9-ca9ae2dc1564",
   "metadata": {},
   "outputs": [],
   "source": [
    "import os\n",
    "root_path = os.path.abspath(\"\")\n",
    "path_to_cosmopower_organization = root_path + '/../../cosmopower-organization/' "
   ]
  },
  {
   "cell_type": "markdown",
   "id": "26df01b6-cebc-4f7c-b200-db24c5ed36de",
   "metadata": {},
   "source": [
    "Finally, the path to the emulators is:"
   ]
  },
  {
   "cell_type": "code",
   "execution_count": 5,
   "id": "5fe9e624-48cd-497c-8383-e0a29e8f274e",
   "metadata": {},
   "outputs": [],
   "source": [
    "path_to_emulators = path_to_cosmopower_organization + 'lcdm/'"
   ]
  },
  {
   "cell_type": "markdown",
   "id": "afcd4ef1-eea8-4c0b-a49d-5edc28001367",
   "metadata": {},
   "source": [
    "Check that these paths are correctly set:"
   ]
  },
  {
   "cell_type": "code",
   "execution_count": 6,
   "id": "4d779fb9-ca55-4a40-ae96-956e391aaa4b",
   "metadata": {},
   "outputs": [
    {
     "name": "stdout",
     "output_type": "stream",
     "text": [
      "inside lcdm:\n",
      "\u001b[34mPK\u001b[m\u001b[m\n",
      "\u001b[34mPP\u001b[m\u001b[m\n",
      "README.md\n",
      "\u001b[34mTTTEEE\u001b[m\u001b[m\n",
      "\u001b[34mderived-parameters\u001b[m\u001b[m\n",
      "\u001b[34mgrowth-and-distances\u001b[m\u001b[m\n",
      "0\n",
      "\n",
      "inside mnu:\n",
      "\u001b[34mPK\u001b[m\u001b[m\n",
      "\u001b[34mPP\u001b[m\u001b[m\n",
      "README.md\n",
      "\u001b[34mTTTEEE\u001b[m\u001b[m\n",
      "\u001b[34mderived-parameters\u001b[m\u001b[m\n",
      "\u001b[34mgrowth-and-distances\u001b[m\u001b[m\n",
      "\n",
      "inside wcdm:\n",
      "\u001b[34mPK\u001b[m\u001b[m\n",
      "\u001b[34mPP\u001b[m\u001b[m\n",
      "README.md\n",
      "\u001b[34mTTTEEE\u001b[m\u001b[m\n",
      "\u001b[34mderived-parameters\u001b[m\u001b[m\n",
      "\u001b[34mgrowth-and-distances\u001b[m\u001b[m\n",
      "\n",
      "inside neff:\n",
      "\u001b[34mPK\u001b[m\u001b[m\n",
      "\u001b[34mPP\u001b[m\u001b[m\n",
      "README.md\n",
      "\u001b[34mTTTEEE\u001b[m\u001b[m\n",
      "\u001b[34mderived-parameters\u001b[m\u001b[m\n",
      "\u001b[34mgrowth-and-distances\u001b[m\u001b[m\n"
     ]
    },
    {
     "data": {
      "text/plain": [
       "0"
      ]
     },
     "execution_count": 6,
     "metadata": {},
     "output_type": "execute_result"
    }
   ],
   "source": [
    "import subprocess\n",
    "path_to_emulators = path_to_cosmopower_organization + 'lcdm/'\n",
    "str_cmd_subprocess = [\"ls\",path_to_emulators]\n",
    "print('inside lcdm:')\n",
    "print(subprocess.call(str_cmd_subprocess))\n",
    "\n",
    "path_to_emulators = path_to_cosmopower_organization + 'mnu/'\n",
    "str_cmd_subprocess = [\"ls\",path_to_emulators]\n",
    "print('\\ninside mnu:')\n",
    "subprocess.call(str_cmd_subprocess)\n",
    "\n",
    "path_to_emulators = path_to_cosmopower_organization + 'wcdm/'\n",
    "str_cmd_subprocess = [\"ls\",path_to_emulators]\n",
    "print('\\ninside wcdm:')\n",
    "subprocess.call(str_cmd_subprocess)\n",
    "\n",
    "path_to_emulators = path_to_cosmopower_organization + 'neff/'\n",
    "str_cmd_subprocess = [\"ls\",path_to_emulators]\n",
    "print('\\ninside neff:')\n",
    "subprocess.call(str_cmd_subprocess)"
   ]
  },
  {
   "cell_type": "markdown",
   "id": "63b7ffdd-20e9-48f8-9971-94dbea44c32c",
   "metadata": {},
   "source": [
    "# Initialize"
   ]
  },
  {
   "cell_type": "code",
   "execution_count": 7,
   "id": "d775e88a-d96b-40a0-be0c-6a4ef571365b",
   "metadata": {},
   "outputs": [],
   "source": [
    "import numpy as np\n",
    "import scipy\n",
    "import yaml\n",
    "\n",
    "\n",
    "from getdist import loadMCSamples, MCSamples\n",
    "from getdist import plots\n",
    "\n",
    "from cosmopower import cosmopower_NN\n",
    "from cosmopower import cosmopower_PCAplusNN\n",
    "\n",
    "\n",
    "import soliket\n",
    "import cobaya\n",
    "\n",
    "\n",
    "#\n",
    "import matplotlib\n",
    "import matplotlib.pyplot as plt\n",
    "%matplotlib inline\n",
    "#\n",
    "font = {'size'   : 16, 'family':'STIXGeneral'}\n",
    "axislabelfontsize='large'\n",
    "matplotlib.rc('font', **font)"
   ]
  },
  {
   "cell_type": "markdown",
   "id": "d47bbba9-f504-4c08-aba7-be6077199217",
   "metadata": {},
   "source": [
    "We will save chains in the chain directory insied the repository where this notebook is"
   ]
  },
  {
   "cell_type": "code",
   "execution_count": 8,
   "id": "3cb7a120-3dd9-4278-b3ed-ee031d7d73c3",
   "metadata": {},
   "outputs": [
    {
     "name": "stdout",
     "output_type": "stream",
     "text": [
      "/Users/boris/Work/CLASS-SZ/SO-SZ/cosmopower-organization/notebooks/chains/\n"
     ]
    }
   ],
   "source": [
    "path_to_chains_dir = root_path + '/chains/'\n",
    "\n",
    "print(path_to_chains_dir)"
   ]
  },
  {
   "cell_type": "markdown",
   "id": "3f980fd1-f97f-437f-8c95-0c89331c7536",
   "metadata": {},
   "source": [
    "Path to the cobaya packages, see the cobaya documentation."
   ]
  },
  {
   "cell_type": "code",
   "execution_count": 9,
   "id": "5ed5223c-37d1-47ec-9690-95f9e4e8cb19",
   "metadata": {},
   "outputs": [],
   "source": [
    "path_to_cobaya_packages_data = '/Users/boris/Work/CLASS-SZ/SO-SZ/cobaya_packages/data'"
   ]
  },
  {
   "cell_type": "markdown",
   "id": "2fa2601f-d79c-4f1a-898d-d62d27e3807e",
   "metadata": {},
   "source": [
    "Load the emulators:"
   ]
  },
  {
   "cell_type": "code",
   "execution_count": 10,
   "id": "d905041b-e566-4ce5-9dec-797c8b9afc9e",
   "metadata": {},
   "outputs": [
    {
     "name": "stdout",
     "output_type": "stream",
     "text": [
      "Metal device set to: Apple M1 Pro\n",
      "WARNING:tensorflow:Please fix your imports. Module tensorflow.python.training.tracking.data_structures has been moved to tensorflow.python.trackable.data_structures. The old module will be deleted in version 2.11.\n"
     ]
    },
    {
     "name": "stderr",
     "output_type": "stream",
     "text": [
      "2023-02-07 10:32:39.861406: I tensorflow/core/common_runtime/pluggable_device/pluggable_device_factory.cc:306] Could not identify NUMA node of platform GPU ID 0, defaulting to 0. Your kernel may not have been built with NUMA support.\n",
      "2023-02-07 10:32:39.861668: I tensorflow/core/common_runtime/pluggable_device/pluggable_device_factory.cc:272] Created TensorFlow device (/job:localhost/replica:0/task:0/device:GPU:0 with 0 MB memory) -> physical PluggableDevice (device: 0, name: METAL, pci bus id: <undefined>)\n"
     ]
    },
    {
     "name": "stdout",
     "output_type": "stream",
     "text": [
      "CPU times: user 185 ms, sys: 120 ms, total: 305 ms\n",
      "Wall time: 336 ms\n"
     ]
    }
   ],
   "source": [
    "%%time\n",
    "path_to_emulators = path_to_cosmopower_organization + 'lcdm/'\n",
    "\n",
    "cp_tt_nn = cosmopower_NN(restore=True,\n",
    "                      restore_filename=path_to_emulators + 'TTTEEE/TT_v1'\n",
    "                      )\n",
    "\n",
    "cp_te_nn = cosmopower_PCAplusNN(restore=True, \n",
    "                                 restore_filename=path_to_emulators + 'TTTEEE/TE_v1'\n",
    "                                 )\n",
    "\n",
    "cp_ee_nn = cosmopower_NN(restore=True,\n",
    "                      restore_filename=path_to_emulators + 'TTTEEE/EE_v1'\n",
    "                      )\n",
    "\n",
    "cp_pp_nn = cosmopower_NN(restore=True,\n",
    "                      restore_filename=path_to_emulators + 'PP/PP_v1',\n",
    "                      )\n",
    "cp_pknl_nn = cosmopower_NN(restore=True,\n",
    "                      restore_filename=path_to_emulators + 'PK/PKNL_v1',\n",
    "                      )\n",
    "\n",
    "cp_pkl_nn = cosmopower_NN(restore=True,\n",
    "                      restore_filename=path_to_emulators + 'PK/PKL_v1',\n",
    "                      )\n",
    "\n",
    "cp_der_nn = cosmopower_NN(restore=True,\n",
    "                      restore_filename=path_to_emulators + 'derived-parameters/DER_v1',\n",
    "                      )\n",
    "\n",
    "\n",
    "cp_da_nn = cosmopower_NN(restore=True,\n",
    "                      restore_filename=path_to_emulators + 'growth-and-distances/DAZ_v1',\n",
    "                      )   \n",
    "    \n",
    "cp_h_nn = cosmopower_NN(restore=True,\n",
    "                      restore_filename=path_to_emulators + 'growth-and-distances/HZ_v1',\n",
    "                      ) \n",
    "cp_s8_nn = cosmopower_NN(restore=True,\n",
    "                      restore_filename=path_to_emulators + 'growth-and-distances/S8Z_v1',\n",
    "                      ) \n"
   ]
  },
  {
   "cell_type": "markdown",
   "id": "79cbe133-21ec-4c9d-b96b-9a005b0d8186",
   "metadata": {},
   "source": [
    "# Lensing + SDSS $f\\sigma_8$ - LCDM"
   ]
  },
  {
   "cell_type": "markdown",
   "id": "e12b576f-75c9-4a46-a26e-936805442294",
   "metadata": {},
   "source": [
    "## Set-up of the input file"
   ]
  },
  {
   "cell_type": "markdown",
   "id": "4dcba7a2-300f-4cf5-b6a5-9518fc9c465f",
   "metadata": {},
   "source": [
    "We need to load the template and add the correct paths to the data files and where we save the chains:"
   ]
  },
  {
   "cell_type": "code",
   "execution_count": 11,
   "id": "f277fce6-a29e-41c8-8f79-acc15868aacb",
   "metadata": {},
   "outputs": [
    {
     "name": "stdout",
     "output_type": "stream",
     "text": [
      "{'output': 'planck_lensing_and_sdssfs8', 'likelihood': {'planck_2018_lensing.CMBMarged': {'path': '/path/to/cobaya_packages/data/planck_supp_data_and_covmats'}, 'bao.sdss_dr12_consensus_full_shape': {'path': '/path/to/cobaya_packages/data/'}}, 'theory': {'soliket.cosmopower.cosmopower': {'path_to_trained_models': '/path/to/trained_models/', 'DAZ_emulator_name': 'growth-and-distances/DAZ_v1', 'HZ_emulator_name': 'growth-and-distances/HZ_v1', 'DER_emulator_name': 'derived-parameters/DER_v1', 'S8Z_emulator_name': 'growth-and-distances/S8Z_v1', 'PP_emulator_name': 'PP/PP_v1', 'lensing_lkl': 'Planck'}}, 'params': {'omega_b': {'prior': {'min': 0.01933, 'max': 0.02533}, 'ref': {'dist': 'norm', 'loc': 0.022211104, 'scale': 0.00088253849}, 'proposal': 0.00088253849, 'latex': 'omega_b'}, 'omega_cdm': {'prior': {'min': 0.08, 'max': 0.2}, 'ref': {'dist': 'norm', 'loc': 0.12590565, 'scale': 0.012255042}, 'proposal': 0.012255042, 'latex': 'omega_cdm'}, 'H0': {'prior': {'min': 40.0, 'max': 99.0}, 'ref': {'dist': 'norm', 'loc': 69.351243, 'scale': 17.146899}, 'proposal': 17.146899, 'latex': 'H0'}, 'n_s': {'prior': {'min': 0.8812, 'max': 1.0492}, 'ref': {'dist': 'norm', 'loc': 0.95989286, 'scale': 0.019465327}, 'proposal': 0.019465327, 'latex': 'n_s'}, 'logA': {'prior': {'min': 2.5, 'max': 3.5}, 'ref': {'dist': 'norm', 'loc': 2.9939341, 'scale': 0.12892144}, 'proposal': 0.12892144, 'latex': 'ln10^{10}A_s'}, 'tau_reio': 0.055}, 'prior': {'ns_prior': 'lambda n_s: stats.norm.logpdf(n_s, loc=0.96, scale=0.02)', 'omb_prior': 'lambda omega_b: stats.norm.logpdf(omega_b, loc=0.0222, scale=0.0005)'}, 'sampler': {'mcmc': {'covmat': 'planck_lensing_and_sdssfs8.covmat', 'Rminus1_stop': 0.01, 'proposal_scale': 1.9, 'burn_in': 50, 'max_tries': 5000, 'learn_proposal': True, 'learn_proposal_Rminus1_max': 30.0, 'learn_proposal_Rminus1_max_early': 80.0}}}\n"
     ]
    }
   ],
   "source": [
    "planck_lensing_and_sdssfs8_yaml = yaml.safe_load(open('mcmc_input_files/planck_lensing_and_sdssfs8.yaml'))\n",
    "print(planck_lensing_and_sdssfs8_yaml)"
   ]
  },
  {
   "cell_type": "code",
   "execution_count": 12,
   "id": "596844d5-dff6-4bd3-93f7-a7d485f0452c",
   "metadata": {},
   "outputs": [],
   "source": [
    "planck_lensing_and_sdssfs8_yaml['output'] = path_to_chains_dir +'planck_lensing_and_sdssfs8'\n",
    "planck_lensing_and_sdssfs8_yaml['sampler']['mcmc']['covmat'] = path_to_chains_dir + '../covmats/planck_lensing_and_sdssfs8.covmat'\n",
    "planck_lensing_and_sdssfs8_yaml['theory']['soliket.cosmopower.cosmopower']['path_to_trained_models'] = path_to_emulators\n",
    "planck_lensing_and_sdssfs8_yaml['likelihood']['planck_2018_lensing.CMBMarged']['path'] = path_to_cobaya_packages_data + '/planck_supp_data_and_covmats'\n",
    "planck_lensing_and_sdssfs8_yaml['likelihood']['bao.sdss_dr12_consensus_full_shape']['path'] = path_to_cobaya_packages_data \n",
    "\n",
    "with open('mcmc_input_files/planck_lensing_and_sdssfs8_system.yaml', 'w') as outfile:\n",
    "    yaml.dump(planck_lensing_and_sdssfs8_yaml, outfile, default_flow_style=False)"
   ]
  },
  {
   "cell_type": "markdown",
   "id": "7943f14c-c16c-472f-b828-973668367f3d",
   "metadata": {},
   "source": [
    "## Run the chains"
   ]
  },
  {
   "cell_type": "code",
   "execution_count": 13,
   "id": "006ca237-fef8-4465-9d57-d5ba01aae1b4",
   "metadata": {
    "tags": []
   },
   "outputs": [
    {
     "name": "stdout",
     "output_type": "stream",
     "text": [
      "[0 : output] Output to be read-from/written-into folder '/Users/boris/Work/CLASS-SZ/SO-SZ/cosmopower-organization/notebooks/chains', with prefix 'planck_lensing_and_sdssfs8'\n",
      "[0 : output] Found existing info files with the requested output prefix: '/Users/boris/Work/CLASS-SZ/SO-SZ/cosmopower-organization/notebooks/chains/planck_lensing_and_sdssfs8'\n",
      "[0 : output] Will delete previous products ('force' was requested).\n",
      "[0 : prior] *WARNING* External prior 'ns_prior' loaded. Mind that it might not be normalized!\n",
      "[0 : prior] *WARNING* External prior 'omb_prior' loaded. Mind that it might not be normalized!\n",
      "Metal device set to: Apple M1 Pro\n",
      "\n",
      "systemMemory: 16.00 GB\n",
      "Metal device set to: Apple M1 Pro\n",
      "\n",
      "systemMemory: 16.00 GB\n",
      "Metal device set to: Apple M1 Pro\n",
      "\n",
      "systemMemory: 16.00 GB\n",
      "maxCacheSize: 5.33 GB\n",
      "\n",
      "maxCacheSize: 5.33 GB\n",
      "\n",
      "Metal device set to: Apple M1 Pro\n",
      "\n",
      "systemMemory: 16.00 GB\n",
      "maxCacheSize: 5.33 GB\n",
      "\n",
      "maxCacheSize: 5.33 GB\n",
      "\n",
      "[0 : tensorflow] *WARNING* Please fix your imports. Module tensorflow.python.training.tracking.data_structures has been moved to tensorflow.python.trackable.data_structures. The old module will be deleted in version 2.11.\n",
      "[3 : tensorflow] *WARNING* Please fix your imports. Module tensorflow.python.training.tracking.data_structures has been moved to tensorflow.python.trackable.data_structures. The old module will be deleted in version 2.11.\n",
      "[1 : tensorflow] *WARNING* Please fix your imports. Module tensorflow.python.training.tracking.data_structures has been moved to tensorflow.python.trackable.data_structures. The old module will be deleted in version 2.11.\n",
      "[2 : tensorflow] *WARNING* Please fix your imports. Module tensorflow.python.training.tracking.data_structures has been moved to tensorflow.python.trackable.data_structures. The old module will be deleted in version 2.11.\n"
     ]
    },
    {
     "name": "stderr",
     "output_type": "stream",
     "text": [
      "2023-02-07 10:32:48.605186: I tensorflow/core/common_runtime/pluggable_device/pluggable_device_factory.cc:306] Could not identify NUMA node of platform GPU ID 0, defaulting to 0. Your kernel may not have been built with NUMA support.\n",
      "2023-02-07 10:32:48.605186: I tensorflow/core/common_runtime/pluggable_device/pluggable_device_factory.cc:306] Could not identify NUMA node of platform GPU ID 0, defaulting to 0. Your kernel may not have been built with NUMA support.\n",
      "2023-02-07 10:32:48.605186: I tensorflow/core/common_runtime/pluggable_device/pluggable_device_factory.cc:306] Could not identify NUMA node of platform GPU ID 0, defaulting to 0. Your kernel may not have been built with NUMA support.\n",
      "2023-02-07 10:32:48.605186: I tensorflow/core/common_runtime/pluggable_device/pluggable_device_factory.cc:306] Could not identify NUMA node of platform GPU ID 0, defaulting to 0. Your kernel may not have been built with NUMA support.\n",
      "2023-02-07 10:32:48.605363: I tensorflow/core/common_runtime/pluggable_device/pluggable_device_factory.cc:272] Created TensorFlow device (/job:localhost/replica:0/task:0/device:GPU:0 with 0 MB memory) -> physical PluggableDevice (device: 0, name: METAL, pci bus id: <undefined>)\n",
      "2023-02-07 10:32:48.605358: I tensorflow/core/common_runtime/pluggable_device/pluggable_device_factory.cc:272] Created TensorFlow device (/job:localhost/replica:0/task:0/device:GPU:0 with 0 MB memory) -> physical PluggableDevice (device: 0, name: METAL, pci bus id: <undefined>)\n",
      "2023-02-07 10:32:48.605354: I tensorflow/core/common_runtime/pluggable_device/pluggable_device_factory.cc:272] Created TensorFlow device (/job:localhost/replica:0/task:0/device:GPU:0 with 0 MB memory) -> physical PluggableDevice (device: 0, name: METAL, pci bus id: <undefined>)\n",
      "2023-02-07 10:32:48.607426: I tensorflow/core/common_runtime/pluggable_device/pluggable_device_factory.cc:272] Created TensorFlow device (/job:localhost/replica:0/task:0/device:GPU:0 with 0 MB memory) -> physical PluggableDevice (device: 0, name: METAL, pci bus id: <undefined>)\n"
     ]
    },
    {
     "name": "stdout",
     "output_type": "stream",
     "text": [
      "[0 : soliket.cosmopower.cosmopower] Initialized!\n",
      "[0 : bao.sdss_dr12_consensus_full_shape] Initialized.\n",
      "[3 : soliket.cosmopower.cosmopower] Initialized!\n",
      "[1 : soliket.cosmopower.cosmopower] Initialized!\n",
      "[2 : soliket.cosmopower.cosmopower] Initialized!\n",
      "[3 : bao.sdss_dr12_consensus_full_shape] Initialized.\n",
      "[1 : bao.sdss_dr12_consensus_full_shape] Initialized.\n",
      "[2 : bao.sdss_dr12_consensus_full_shape] Initialized.\n",
      "[1 : mcmc] Getting initial point... (this may take a few seconds)\n",
      "[2 : mcmc] Getting initial point... (this may take a few seconds)\n",
      "[3 : mcmc] Getting initial point... (this may take a few seconds)\n",
      "[0 : mcmc] Getting initial point... (this may take a few seconds)\n",
      "[0 : model] Measuring speeds... (this may take a few seconds)\n",
      "[0 : model] Setting measured speeds (per sec): {bao.sdss_dr12_consensus_full_shape: 3200.0, planck_2018_lensing.CMBMarged: 1580.0, soliket.cosmopower.cosmopower: 28.1}\n",
      "[0 : mcmc] Covariance matrix loaded for params ['H0', 'logA', 'n_s', 'omega_b', 'omega_cdm']\n",
      "[0 : mcmc] All parameters' covariance loaded from given covmat.\n",
      "[0 : mcmc] Initial point: H0:60.50741, logA:2.747544, n_s:0.9495583, omega_b:0.02290761, omega_cdm:0.1164816\n",
      "[1 : mcmc] Initial point: H0:62.96626, logA:2.924232, n_s:0.9806931, omega_b:0.02351593, omega_cdm:0.1191338\n",
      "[2 : mcmc] Initial point: H0:80.41739, logA:2.889113, n_s:0.9833202, omega_b:0.0230789, omega_cdm:0.1184324\n",
      "[3 : mcmc] Initial point: H0:63.01853, logA:2.929897, n_s:0.9543028, omega_b:0.0219393, omega_cdm:0.1366191\n",
      "[0 : mcmc] Sampling! (NB: no accepted step will be saved until 50 burn-in samples have been obtained)\n",
      "[0 : mcmc] Progress @ 2023-02-07 10:32:49 : 1 steps taken -- still burning in, 51 accepted steps left.\n",
      "[3 : mcmc] Progress @ 2023-02-07 10:32:49 : 1 steps taken -- still burning in, 51 accepted steps left.\n",
      "[1 : mcmc] Progress @ 2023-02-07 10:32:49 : 1 steps taken -- still burning in, 50 accepted steps left.\n",
      "[2 : mcmc] Progress @ 2023-02-07 10:32:49 : 1 steps taken -- still burning in, 50 accepted steps left.\n",
      "[3 : mcmc] Finished burn-in phase: discarded 50 accepted steps.\n",
      "[1 : mcmc] Finished burn-in phase: discarded 50 accepted steps.\n",
      "[2 : mcmc] Finished burn-in phase: discarded 50 accepted steps.\n",
      "[0 : mcmc] Finished burn-in phase: discarded 50 accepted steps.\n",
      "[3 : mcmc] Progress @ 2023-02-07 10:33:49 : 2613 steps taken, and 152 accepted.\n",
      "[0 : mcmc] Progress @ 2023-02-07 10:33:49 : 2569 steps taken, and 154 accepted.\n",
      "[1 : mcmc] Progress @ 2023-02-07 10:33:49 : 2576 steps taken, and 132 accepted.\n",
      "[2 : mcmc] Progress @ 2023-02-07 10:33:49 : 2622 steps taken, and 128 accepted.\n",
      "[3 : mcmc] Learn + convergence test @ 200 samples accepted.\n",
      "[3 : mcmc] Ready to check convergence and learn a new proposal covmat (waiting for the rest...)\n",
      "[0 : mcmc] Learn + convergence test @ 200 samples accepted.\n",
      "[0 : mcmc] Ready to check convergence and learn a new proposal covmat (waiting for the rest...)\n",
      "[1 : mcmc] Learn + convergence test @ 200 samples accepted.\n",
      "[1 : mcmc] Ready to check convergence and learn a new proposal covmat (waiting for the rest...)\n",
      "[2 : mcmc] Learn + convergence test @ 200 samples accepted.\n",
      "[2 : mcmc] Ready to check convergence and learn a new proposal covmat (waiting for the rest...)\n",
      "[0 : mcmc] All chains are ready to check convergence and learn a new proposal covmat\n",
      "[0 : mcmc]  - Acceptance rate: 0.072 = avg([0.06294117647058824, 0.0735930735930736, 0.0697350069735007, 0.08066666666666666])\n",
      "[0 : mcmc]  - Convergence of means: R-1 = 0.443124 after 860 accepted steps = sum([214, 204, 200, 242])\n",
      "[0 : mcmc]  - Updated covariance matrix of proposal pdf.\n",
      "[3 : mcmc] Learn + convergence test @ 400 samples accepted.\n",
      "[3 : mcmc] Ready to check convergence and learn a new proposal covmat (waiting for the rest...)\n",
      "[1 : mcmc] Learn + convergence test @ 400 samples accepted.\n",
      "[1 : mcmc] Ready to check convergence and learn a new proposal covmat (waiting for the rest...)\n",
      "[2 : mcmc] Learn + convergence test @ 400 samples accepted.\n",
      "[2 : mcmc] Ready to check convergence and learn a new proposal covmat (waiting for the rest...)\n",
      "[0 : mcmc] Learn + convergence test @ 400 samples accepted.\n",
      "[0 : mcmc] Ready to check convergence and learn a new proposal covmat (waiting for the rest...)\n",
      "[0 : mcmc] All chains are ready to check convergence and learn a new proposal covmat\n",
      "[0 : mcmc]  - Acceptance rate: 0.319 = avg([0.228310502283105, 0.40227703984819735, 0.3779816513761468, 0.2665066026410564])\n",
      "[0 : mcmc]  - Convergence of means: R-1 = 0.110334 after 1677 accepted steps = sum([400, 423, 411, 443])\n",
      "[0 : mcmc]  - Updated covariance matrix of proposal pdf.\n",
      "[3 : mcmc] Learn + convergence test @ 600 samples accepted.\n",
      "[3 : mcmc] Ready to check convergence and learn a new proposal covmat (waiting for the rest...)\n",
      "[2 : mcmc] Learn + convergence test @ 600 samples accepted.\n",
      "[2 : mcmc] Ready to check convergence and learn a new proposal covmat (waiting for the rest...)\n",
      "[0 : mcmc] Learn + convergence test @ 600 samples accepted.\n",
      "[0 : mcmc] Ready to check convergence and learn a new proposal covmat (waiting for the rest...)\n",
      "[1 : mcmc] Learn + convergence test @ 600 samples accepted.\n",
      "[1 : mcmc] Ready to check convergence and learn a new proposal covmat (waiting for the rest...)\n",
      "[0 : mcmc] All chains are ready to check convergence and learn a new proposal covmat\n",
      "[0 : mcmc]  - Acceptance rate: 0.367 = avg([0.3578199052132701, 0.3588516746411483, 0.3811881188118812, 0.37083811710677383])\n",
      "[0 : mcmc]  - Convergence of means: R-1 = 0.098862 after 2466 accepted steps = sum([604, 600, 616, 646])\n",
      "[0 : mcmc]  - Updated covariance matrix of proposal pdf.\n",
      "[0 : mcmc] Progress @ 2023-02-07 10:34:49 : 4878 steps taken, and 678 accepted.\n",
      "[2 : mcmc] Progress @ 2023-02-07 10:34:49 : 4899 steps taken, and 697 accepted.\n",
      "[1 : mcmc] Progress @ 2023-02-07 10:34:49 : 4815 steps taken, and 670 accepted.\n",
      "[3 : mcmc] Progress @ 2023-02-07 10:34:49 : 4948 steps taken, and 720 accepted.\n",
      "[3 : mcmc] Learn + convergence test @ 800 samples accepted.\n",
      "[3 : mcmc] Ready to check convergence and learn a new proposal covmat (waiting for the rest...)\n",
      "[2 : mcmc] Learn + convergence test @ 800 samples accepted.\n",
      "[2 : mcmc] Ready to check convergence and learn a new proposal covmat (waiting for the rest...)\n",
      "[0 : mcmc] Learn + convergence test @ 800 samples accepted.\n",
      "[0 : mcmc] Ready to check convergence and learn a new proposal covmat (waiting for the rest...)\n",
      "[1 : mcmc] Learn + convergence test @ 800 samples accepted.\n",
      "[1 : mcmc] Ready to check convergence and learn a new proposal covmat (waiting for the rest...)\n",
      "[0 : mcmc] All chains are ready to check convergence and learn a new proposal covmat\n",
      "[0 : mcmc]  - Acceptance rate: 0.380 = avg([0.3849721706864564, 0.35587188612099646, 0.39097744360902253, 0.3883408071748879])\n",
      "[0 : mcmc]  - Convergence of means: R-1 = 0.071739 after 3326 accepted steps = sum([829, 800, 831, 866])\n",
      "[0 : mcmc]  - Updated covariance matrix of proposal pdf.\n",
      "[3 : mcmc] Learn + convergence test @ 1000 samples accepted.\n",
      "[3 : mcmc] Ready to check convergence and learn a new proposal covmat (waiting for the rest...)\n",
      "[2 : mcmc] Learn + convergence test @ 1000 samples accepted.\n",
      "[2 : mcmc] Ready to check convergence and learn a new proposal covmat (waiting for the rest...)\n",
      "[0 : mcmc] Learn + convergence test @ 1000 samples accepted.\n",
      "[0 : mcmc] Ready to check convergence and learn a new proposal covmat (waiting for the rest...)\n",
      "[1 : mcmc] Learn + convergence test @ 1000 samples accepted.\n",
      "[1 : mcmc] Ready to check convergence and learn a new proposal covmat (waiting for the rest...)\n",
      "[0 : mcmc] All chains are ready to check convergence and learn a new proposal covmat\n",
      "[0 : mcmc]  - Acceptance rate: 0.382 = avg([0.37074583635047065, 0.36101083032490977, 0.3902621722846442, 0.4020542920029347])\n",
      "[0 : mcmc]  - Convergence of means: R-1 = 0.042319 after 4161 accepted steps = sum([1024, 1000, 1041, 1096])\n",
      "[0 : mcmc]  - Updated covariance matrix of proposal pdf.\n",
      "[3 : mcmc] Learn + convergence test @ 1200 samples accepted.\n",
      "[3 : mcmc] Ready to check convergence and learn a new proposal covmat (waiting for the rest...)\n",
      "[2 : mcmc] Learn + convergence test @ 1200 samples accepted.\n",
      "[2 : mcmc] Ready to check convergence and learn a new proposal covmat (waiting for the rest...)\n",
      "[0 : mcmc] Learn + convergence test @ 1200 samples accepted.\n",
      "[0 : mcmc] Ready to check convergence and learn a new proposal covmat (waiting for the rest...)\n",
      "[1 : mcmc] Learn + convergence test @ 1200 samples accepted.\n",
      "[1 : mcmc] Ready to check convergence and learn a new proposal covmat (waiting for the rest...)\n",
      "[0 : mcmc] All chains are ready to check convergence and learn a new proposal covmat\n",
      "[0 : mcmc]  - Acceptance rate: 0.377 = avg([0.3584569732937685, 0.36496350364963503, 0.3853211009174312, 0.3958712811171828])\n",
      "[0 : mcmc]  - Convergence of means: R-1 = 0.017937 after 4970 accepted steps = sum([1207, 1200, 1259, 1304])\n",
      "[0 : mcmc]  - Updated covariance matrix of proposal pdf.\n",
      "[3 : mcmc] Learn + convergence test @ 1400 samples accepted.\n",
      "[3 : mcmc] Ready to check convergence and learn a new proposal covmat (waiting for the rest...)\n",
      "[2 : mcmc] Learn + convergence test @ 1400 samples accepted.\n",
      "[2 : mcmc] Ready to check convergence and learn a new proposal covmat (waiting for the rest...)\n",
      "[1 : mcmc] Learn + convergence test @ 1400 samples accepted.\n",
      "[1 : mcmc] Ready to check convergence and learn a new proposal covmat (waiting for the rest...)\n",
      "[0 : mcmc] Learn + convergence test @ 1400 samples accepted.\n",
      "[0 : mcmc] Ready to check convergence and learn a new proposal covmat (waiting for the rest...)\n",
      "[0 : mcmc] All chains are ready to check convergence and learn a new proposal covmat\n",
      "[0 : mcmc]  - Acceptance rate: 0.372 = avg([0.36382536382536385, 0.3704485488126649, 0.369778236204229, 0.3831872099020113])\n",
      "[0 : mcmc]  - Convergence of means: R-1 = 0.020532 after 5721 accepted steps = sum([1400, 1403, 1433, 1485])\n",
      "[0 : mcmc]  - Updated covariance matrix of proposal pdf.\n",
      "[0 : mcmc] Progress @ 2023-02-07 10:35:49 : 7037 steps taken, and 1465 accepted.\n",
      "[1 : mcmc] Progress @ 2023-02-07 10:35:49 : 6964 steps taken, and 1464 accepted.\n",
      "[2 : mcmc] Progress @ 2023-02-07 10:35:49 : 7044 steps taken, and 1496 accepted.\n",
      "[3 : mcmc] Progress @ 2023-02-07 10:35:49 : 7104 steps taken, and 1544 accepted.\n",
      "[3 : mcmc] Learn + convergence test @ 1600 samples accepted.\n",
      "[3 : mcmc] Ready to check convergence and learn a new proposal covmat (waiting for the rest...)\n",
      "[2 : mcmc] Learn + convergence test @ 1600 samples accepted.\n",
      "[2 : mcmc] Ready to check convergence and learn a new proposal covmat (waiting for the rest...)\n",
      "[1 : mcmc] Learn + convergence test @ 1600 samples accepted.\n",
      "[1 : mcmc] Ready to check convergence and learn a new proposal covmat (waiting for the rest...)\n",
      "[0 : mcmc] Learn + convergence test @ 1600 samples accepted.\n",
      "[0 : mcmc] Ready to check convergence and learn a new proposal covmat (waiting for the rest...)\n",
      "[0 : mcmc] All chains are ready to check convergence and learn a new proposal covmat\n",
      "[0 : mcmc]  - Acceptance rate: 0.370 = avg([0.35445281346920693, 0.3790060380863911, 0.3701532912533814, 0.37472085752568113])\n",
      "[0 : mcmc]  - Convergence of means: R-1 = 0.019556 after 6552 accepted steps = sum([1600, 1632, 1642, 1678])\n",
      "[0 : mcmc]  - Updated covariance matrix of proposal pdf.\n",
      "[3 : mcmc] Learn + convergence test @ 1800 samples accepted.\n",
      "[3 : mcmc] Ready to check convergence and learn a new proposal covmat (waiting for the rest...)\n",
      "[1 : mcmc] Learn + convergence test @ 1800 samples accepted.\n",
      "[1 : mcmc] Ready to check convergence and learn a new proposal covmat (waiting for the rest...)\n",
      "[2 : mcmc] Learn + convergence test @ 1800 samples accepted.\n",
      "[2 : mcmc] Ready to check convergence and learn a new proposal covmat (waiting for the rest...)\n",
      "[0 : mcmc] Learn + convergence test @ 1800 samples accepted.\n",
      "[0 : mcmc] Ready to check convergence and learn a new proposal covmat (waiting for the rest...)\n",
      "[0 : mcmc] All chains are ready to check convergence and learn a new proposal covmat\n",
      "[0 : mcmc]  - Acceptance rate: 0.368 = avg([0.35657686212361334, 0.38352745424292845, 0.3578988631909055, 0.3743038981702466])\n",
      "[0 : mcmc]  - Convergence of means: R-1 = 0.015601 after 7350 accepted steps = sum([1800, 1843, 1826, 1881])\n",
      "[0 : mcmc]  - Updated covariance matrix of proposal pdf.\n",
      "[3 : mcmc] Learn + convergence test @ 2000 samples accepted.\n",
      "[3 : mcmc] Ready to check convergence and learn a new proposal covmat (waiting for the rest...)\n",
      "[1 : mcmc] Learn + convergence test @ 2000 samples accepted.\n",
      "[1 : mcmc] Ready to check convergence and learn a new proposal covmat (waiting for the rest...)\n",
      "[2 : mcmc] Learn + convergence test @ 2000 samples accepted.\n",
      "[2 : mcmc] Ready to check convergence and learn a new proposal covmat (waiting for the rest...)\n",
      "[0 : mcmc] Learn + convergence test @ 2000 samples accepted.\n",
      "[0 : mcmc] Ready to check convergence and learn a new proposal covmat (waiting for the rest...)\n",
      "[0 : mcmc] All chains are ready to check convergence and learn a new proposal covmat\n",
      "[0 : mcmc]  - Acceptance rate: 0.366 = avg([0.3601008282319049, 0.37578674564975934, 0.35853055457435534, 0.3679745493107105])\n",
      "[0 : mcmc]  - Convergence of means: R-1 = 0.014861 after 8141 accepted steps = sum([2000, 2030, 2029, 2082])\n",
      "[0 : mcmc]  - Updated covariance matrix of proposal pdf.\n",
      "[3 : mcmc] Learn + convergence test @ 2200 samples accepted.\n",
      "[3 : mcmc] Ready to check convergence and learn a new proposal covmat (waiting for the rest...)\n",
      "[2 : mcmc] Learn + convergence test @ 2200 samples accepted.\n",
      "[2 : mcmc] Ready to check convergence and learn a new proposal covmat (waiting for the rest...)\n",
      "[0 : mcmc] Learn + convergence test @ 2200 samples accepted.\n",
      "[0 : mcmc] Ready to check convergence and learn a new proposal covmat (waiting for the rest...)\n",
      "[1 : mcmc] Learn + convergence test @ 2200 samples accepted.\n",
      "[1 : mcmc] Ready to check convergence and learn a new proposal covmat (waiting for the rest...)\n",
      "[0 : mcmc] All chains are ready to check convergence and learn a new proposal covmat\n",
      "[0 : mcmc]  - Acceptance rate: 0.362 = avg([0.36372646184340934, 0.3696236559139785, 0.35494223363286265, 0.36160714285714285])\n",
      "[0 : mcmc]  - Convergence of means: R-1 = 0.018023 after 8882 accepted steps = sum([2202, 2200, 2212, 2268])\n",
      "[0 : mcmc]  - Updated covariance matrix of proposal pdf.\n",
      "[1 : mcmc] Progress @ 2023-02-07 10:36:49 : 9169 steps taken, and 2270 accepted.\n",
      "[3 : mcmc] Progress @ 2023-02-07 10:36:49 : 9294 steps taken, and 2351 accepted.\n",
      "[2 : mcmc] Progress @ 2023-02-07 10:36:49 : 9256 steps taken, and 2278 accepted.\n",
      "[0 : mcmc] Progress @ 2023-02-07 10:36:49 : 9221 steps taken, and 2269 accepted.\n",
      "[3 : mcmc] Learn + convergence test @ 2400 samples accepted.\n",
      "[3 : mcmc] Ready to check convergence and learn a new proposal covmat (waiting for the rest...)\n",
      "[2 : mcmc] Learn + convergence test @ 2400 samples accepted.\n",
      "[2 : mcmc] Ready to check convergence and learn a new proposal covmat (waiting for the rest...)\n",
      "[1 : mcmc] Learn + convergence test @ 2400 samples accepted.\n",
      "[1 : mcmc] Ready to check convergence and learn a new proposal covmat (waiting for the rest...)\n",
      "[0 : mcmc] Learn + convergence test @ 2400 samples accepted.\n",
      "[0 : mcmc] Ready to check convergence and learn a new proposal covmat (waiting for the rest...)\n",
      "[0 : mcmc] All chains are ready to check convergence and learn a new proposal covmat\n",
      "[0 : mcmc]  - Acceptance rate: 0.366 = avg([0.37082818294190356, 0.37126117792167745, 0.3546870408463121, 0.36755162241887906])\n",
      "[0 : mcmc]  - Convergence of means: R-1 = 0.022204 after 9713 accepted steps = sum([2400, 2407, 2414, 2492])\n",
      "[0 : mcmc]  - Updated covariance matrix of proposal pdf.\n",
      "[3 : mcmc] Learn + convergence test @ 2600 samples accepted.\n",
      "[3 : mcmc] Ready to check convergence and learn a new proposal covmat (waiting for the rest...)\n",
      "[2 : mcmc] Learn + convergence test @ 2600 samples accepted.\n",
      "[2 : mcmc] Ready to check convergence and learn a new proposal covmat (waiting for the rest...)\n",
      "[0 : mcmc] Learn + convergence test @ 2600 samples accepted.\n",
      "[0 : mcmc] Ready to check convergence and learn a new proposal covmat (waiting for the rest...)\n",
      "[1 : mcmc] Learn + convergence test @ 2600 samples accepted.\n",
      "[1 : mcmc] Ready to check convergence and learn a new proposal covmat (waiting for the rest...)\n",
      "[0 : mcmc] All chains are ready to check convergence and learn a new proposal covmat\n",
      "[0 : mcmc]  - Acceptance rate: 0.367 = avg([0.3699175433608189, 0.3678551216751556, 0.35753424657534244, 0.3726193762075628])\n",
      "[0 : mcmc]  - Convergence of means: R-1 = 0.018816 after 10509 accepted steps = sum([2601, 2600, 2609, 2699])\n",
      "[0 : mcmc]  - Updated covariance matrix of proposal pdf.\n",
      "[3 : mcmc] Learn + convergence test @ 2800 samples accepted.\n",
      "[3 : mcmc] Ready to check convergence and learn a new proposal covmat (waiting for the rest...)\n",
      "[0 : mcmc] Learn + convergence test @ 2800 samples accepted.\n",
      "[0 : mcmc] Ready to check convergence and learn a new proposal covmat (waiting for the rest...)\n",
      "[2 : mcmc] Learn + convergence test @ 2800 samples accepted.\n",
      "[2 : mcmc] Ready to check convergence and learn a new proposal covmat (waiting for the rest...)\n",
      "[1 : mcmc] Learn + convergence test @ 2800 samples accepted.\n",
      "[1 : mcmc] Ready to check convergence and learn a new proposal covmat (waiting for the rest...)\n",
      "[0 : mcmc] All chains are ready to check convergence and learn a new proposal covmat\n",
      "[0 : mcmc]  - Acceptance rate: 0.362 = avg([0.36721991701244816, 0.3581478639038117, 0.35220440881763526, 0.3717330626744481])\n",
      "[0 : mcmc]  - Convergence of means: R-1 = 0.017853 after 11373 accepted steps = sum([2832, 2800, 2812, 2929])\n",
      "[0 : mcmc]  - Updated covariance matrix of proposal pdf.\n",
      "[3 : mcmc] Learn + convergence test @ 3000 samples accepted.\n",
      "[3 : mcmc] Ready to check convergence and learn a new proposal covmat (waiting for the rest...)\n",
      "[0 : mcmc] Learn + convergence test @ 3000 samples accepted.\n",
      "[0 : mcmc] Ready to check convergence and learn a new proposal covmat (waiting for the rest...)\n",
      "[2 : mcmc] Learn + convergence test @ 3000 samples accepted.\n",
      "[2 : mcmc] Ready to check convergence and learn a new proposal covmat (waiting for the rest...)\n",
      "[1 : mcmc] Learn + convergence test @ 3000 samples accepted.\n",
      "[1 : mcmc] Ready to check convergence and learn a new proposal covmat (waiting for the rest...)\n",
      "[0 : mcmc] All chains are ready to check convergence and learn a new proposal covmat\n",
      "[0 : mcmc]  - Acceptance rate: 0.362 = avg([0.36387686387686385, 0.3566333808844508, 0.3537956888472352, 0.37309885931558934])\n",
      "[0 : mcmc]  - Convergence of means: R-1 = 0.022739 after 12185 accepted steps = sum([3026, 3000, 3020, 3139])\n",
      "[0 : mcmc]  - Updated covariance matrix of proposal pdf.\n",
      "[2 : mcmc] Progress @ 2023-02-07 10:37:49 : 11443 steps taken, and 3048 accepted.\n",
      "[3 : mcmc] Progress @ 2023-02-07 10:37:49 : 11494 steps taken, and 3178 accepted.\n",
      "[1 : mcmc] Progress @ 2023-02-07 10:37:49 : 11354 steps taken, and 3038 accepted.\n",
      "[0 : mcmc] Progress @ 2023-02-07 10:37:49 : 11423 steps taken, and 3066 accepted.\n",
      "[3 : mcmc] Learn + convergence test @ 3200 samples accepted.\n",
      "[3 : mcmc] Ready to check convergence and learn a new proposal covmat (waiting for the rest...)\n",
      "[0 : mcmc] Learn + convergence test @ 3200 samples accepted.\n",
      "[0 : mcmc] Ready to check convergence and learn a new proposal covmat (waiting for the rest...)\n",
      "[2 : mcmc] Learn + convergence test @ 3200 samples accepted.\n",
      "[2 : mcmc] Ready to check convergence and learn a new proposal covmat (waiting for the rest...)\n",
      "[1 : mcmc] Learn + convergence test @ 3200 samples accepted.\n",
      "[1 : mcmc] Ready to check convergence and learn a new proposal covmat (waiting for the rest...)\n",
      "[0 : mcmc] All chains are ready to check convergence and learn a new proposal covmat\n",
      "[0 : mcmc]  - Acceptance rate: 0.362 = avg([0.3668558456299659, 0.3535130357931949, 0.353704110793581, 0.3725709180254635])\n",
      "[0 : mcmc]  - Convergence of means: R-1 = 0.015537 after 12986 accepted steps = sum([3232, 3200, 3218, 3336])\n",
      "[0 : mcmc]  - Updated covariance matrix of proposal pdf.\n",
      "[3 : mcmc] Learn + convergence test @ 3400 samples accepted.\n",
      "[3 : mcmc] Ready to check convergence and learn a new proposal covmat (waiting for the rest...)\n",
      "[2 : mcmc] Learn + convergence test @ 3400 samples accepted.\n",
      "[2 : mcmc] Ready to check convergence and learn a new proposal covmat (waiting for the rest...)\n",
      "[0 : mcmc] Learn + convergence test @ 3400 samples accepted.\n",
      "[0 : mcmc] Ready to check convergence and learn a new proposal covmat (waiting for the rest...)\n",
      "[1 : mcmc] Learn + convergence test @ 3400 samples accepted.\n",
      "[1 : mcmc] Ready to check convergence and learn a new proposal covmat (waiting for the rest...)\n",
      "[0 : mcmc] All chains are ready to check convergence and learn a new proposal covmat\n",
      "[0 : mcmc]  - Acceptance rate: 0.362 = avg([0.3674210076857387, 0.3510945890128046, 0.35669717138103163, 0.37058700647587217])\n",
      "[0 : mcmc]  - Convergence of means: R-1 = 0.016900 after 13819 accepted steps = sum([3442, 3400, 3430, 3547])\n",
      "[0 : mcmc]  - Updated covariance matrix of proposal pdf.\n",
      "[3 : mcmc] Learn + convergence test @ 3600 samples accepted.\n",
      "[3 : mcmc] Ready to check convergence and learn a new proposal covmat (waiting for the rest...)\n",
      "[0 : mcmc] Learn + convergence test @ 3600 samples accepted.\n",
      "[0 : mcmc] Ready to check convergence and learn a new proposal covmat (waiting for the rest...)\n",
      "[2 : mcmc] Learn + convergence test @ 3600 samples accepted.\n",
      "[2 : mcmc] Ready to check convergence and learn a new proposal covmat (waiting for the rest...)\n",
      "[1 : mcmc] Learn + convergence test @ 3600 samples accepted.\n",
      "[1 : mcmc] Ready to check convergence and learn a new proposal covmat (waiting for the rest...)\n",
      "[0 : mcmc] All chains are ready to check convergence and learn a new proposal covmat\n",
      "[0 : mcmc]  - Acceptance rate: 0.360 = avg([0.3655783958081419, 0.3518373729476153, 0.3538189672098959, 0.37006937561942516])\n",
      "[0 : mcmc]  - Convergence of means: R-1 = 0.017497 after 14565 accepted steps = sum([3628, 3600, 3604, 3733])\n",
      "[0 : mcmc]  - Updated covariance matrix of proposal pdf.\n",
      "[3 : mcmc] Learn + convergence test @ 3800 samples accepted.\n",
      "[3 : mcmc] Ready to check convergence and learn a new proposal covmat (waiting for the rest...)\n",
      "[0 : mcmc] Learn + convergence test @ 3800 samples accepted.\n",
      "[0 : mcmc] Ready to check convergence and learn a new proposal covmat (waiting for the rest...)\n",
      "[2 : mcmc] Learn + convergence test @ 3800 samples accepted.\n",
      "[2 : mcmc] Ready to check convergence and learn a new proposal covmat (waiting for the rest...)\n",
      "[1 : mcmc] Learn + convergence test @ 3800 samples accepted.\n",
      "[1 : mcmc] Ready to check convergence and learn a new proposal covmat (waiting for the rest...)\n",
      "[0 : mcmc] All chains are ready to check convergence and learn a new proposal covmat\n",
      "[0 : mcmc]  - Acceptance rate: 0.364 = avg([0.3704488537853978, 0.3544114903935833, 0.3576382380506092, 0.3737240075614367])\n",
      "[0 : mcmc]  - Convergence of means: R-1 = 0.021141 after 15414 accepted steps = sum([3845, 3800, 3815, 3954])\n",
      "[0 : mcmc]  - Updated covariance matrix of proposal pdf.\n",
      "[1 : mcmc] Progress @ 2023-02-07 10:38:49 : 13533 steps taken, and 3825 accepted.\n",
      "[3 : mcmc] Progress @ 2023-02-07 10:38:49 : 13671 steps taken, and 3986 accepted.\n",
      "[2 : mcmc] Progress @ 2023-02-07 10:38:49 : 13630 steps taken, and 3847 accepted.\n",
      "[0 : mcmc] Progress @ 2023-02-07 10:38:49 : 13596 steps taken, and 3877 accepted.\n",
      "[3 : mcmc] Learn + convergence test @ 4000 samples accepted.\n",
      "[3 : mcmc] Ready to check convergence and learn a new proposal covmat (waiting for the rest...)\n",
      "[0 : mcmc] Learn + convergence test @ 4000 samples accepted.\n",
      "[0 : mcmc] Ready to check convergence and learn a new proposal covmat (waiting for the rest...)\n",
      "[2 : mcmc] Learn + convergence test @ 4000 samples accepted.\n",
      "[2 : mcmc] Ready to check convergence and learn a new proposal covmat (waiting for the rest...)\n",
      "[1 : mcmc] Learn + convergence test @ 4000 samples accepted.\n",
      "[1 : mcmc] Ready to check convergence and learn a new proposal covmat (waiting for the rest...)\n",
      "[0 : mcmc] All chains are ready to check convergence and learn a new proposal covmat\n",
      "[0 : mcmc]  - Acceptance rate: 0.363 = avg([0.37110016420361247, 0.3529204164460914, 0.35676251331203407, 0.3701854493580599])\n",
      "[0 : mcmc]  - Convergence of means: R-1 = 0.017228 after 16240 accepted steps = sum([4068, 4000, 4020, 4152])\n",
      "[0 : mcmc]  - Updated covariance matrix of proposal pdf.\n",
      "[3 : mcmc] Learn + convergence test @ 4200 samples accepted.\n",
      "[3 : mcmc] Ready to check convergence and learn a new proposal covmat (waiting for the rest...)\n",
      "[0 : mcmc] Learn + convergence test @ 4200 samples accepted.\n",
      "[0 : mcmc] Ready to check convergence and learn a new proposal covmat (waiting for the rest...)\n",
      "[2 : mcmc] Learn + convergence test @ 4200 samples accepted.\n",
      "[2 : mcmc] Ready to check convergence and learn a new proposal covmat (waiting for the rest...)\n",
      "[1 : mcmc] Learn + convergence test @ 4200 samples accepted.\n",
      "[1 : mcmc] Ready to check convergence and learn a new proposal covmat (waiting for the rest...)\n",
      "[0 : mcmc] All chains are ready to check convergence and learn a new proposal covmat\n",
      "[0 : mcmc]  - Acceptance rate: 0.363 = avg([0.368621345787926, 0.35502958579881655, 0.35916212534059944, 0.36752717391304346])\n",
      "[0 : mcmc]  - Convergence of means: R-1 = 0.011052 after 17006 accepted steps = sum([4262, 4200, 4217, 4327])\n",
      "[0 : mcmc]  - Updated covariance matrix of proposal pdf.\n",
      "[3 : mcmc] Learn + convergence test @ 4400 samples accepted.\n",
      "[3 : mcmc] Ready to check convergence and learn a new proposal covmat (waiting for the rest...)\n",
      "[0 : mcmc] Learn + convergence test @ 4400 samples accepted.\n",
      "[0 : mcmc] Ready to check convergence and learn a new proposal covmat (waiting for the rest...)\n",
      "[2 : mcmc] Learn + convergence test @ 4400 samples accepted.\n",
      "[2 : mcmc] Ready to check convergence and learn a new proposal covmat (waiting for the rest...)\n",
      "[1 : mcmc] Learn + convergence test @ 4400 samples accepted.\n",
      "[1 : mcmc] Ready to check convergence and learn a new proposal covmat (waiting for the rest...)\n",
      "[0 : mcmc] All chains are ready to check convergence and learn a new proposal covmat\n",
      "[0 : mcmc]  - Acceptance rate: 0.363 = avg([0.3661184210526316, 0.3576654202568688, 0.36259791122715407, 0.36557748301520543])\n",
      "[0 : mcmc]  - Convergence of means: R-1 = 0.009093 after 17815 accepted steps = sum([4451, 4400, 4444, 4520])\n",
      "[0 : mcmc]  - Updated covariance matrix of proposal pdf.\n",
      "[3 : mcmc] Learn + convergence test @ 4600 samples accepted.\n",
      "[3 : mcmc] Ready to check convergence and learn a new proposal covmat (waiting for the rest...)\n",
      "[0 : mcmc] Learn + convergence test @ 4600 samples accepted.\n",
      "[0 : mcmc] Ready to check convergence and learn a new proposal covmat (waiting for the rest...)\n",
      "[2 : mcmc] Learn + convergence test @ 4600 samples accepted.\n",
      "[2 : mcmc] Ready to check convergence and learn a new proposal covmat (waiting for the rest...)\n",
      "[1 : mcmc] Learn + convergence test @ 4600 samples accepted.\n",
      "[1 : mcmc] Ready to check convergence and learn a new proposal covmat (waiting for the rest...)\n",
      "[0 : mcmc] All chains are ready to check convergence and learn a new proposal covmat\n",
      "[0 : mcmc]  - Acceptance rate: 0.363 = avg([0.36477987421383645, 0.3589823630404245, 0.3613799562909772, 0.36713775430967543])\n",
      "[0 : mcmc]  - Convergence of means: R-1 = 0.007058 after 18596 accepted steps = sum([4639, 4600, 4629, 4728])\n",
      "[0 : mcmc]  - Convergence of bounds: R-1 = 0.077516 after 18596 accepted steps = sum([4639, 4600, 4629, 4728])\n",
      "[0 : mcmc] The run has converged!\n",
      "[0 : mcmc] Sampling complete after 18596 accepted steps.\n",
      "CPU times: user 81.8 ms, sys: 60.6 ms, total: 142 ms\n",
      "Wall time: 7min 4s\n"
     ]
    },
    {
     "data": {
      "text/plain": [
       "0"
      ]
     },
     "execution_count": 13,
     "metadata": {},
     "output_type": "execute_result"
    }
   ],
   "source": [
    "%%time\n",
    "str_cmd_subprocess = [\"mpirun\",\n",
    "                      \"-np\",\"4\",\n",
    "                      \"cobaya-run\",\n",
    "                      \"mcmc_input_files/planck_lensing_and_sdssfs8_system.yaml\",\n",
    "                      \"-f\"]\n",
    "subprocess.call(str_cmd_subprocess)"
   ]
  },
  {
   "cell_type": "markdown",
   "id": "c990ff5d-9261-4c05-9a99-aded5413855e",
   "metadata": {},
   "source": [
    "# Plot with getdist"
   ]
  },
  {
   "cell_type": "markdown",
   "id": "e65baa9b-f38c-4859-9a17-cd4c0a929567",
   "metadata": {},
   "source": [
    "## Analyse"
   ]
  },
  {
   "cell_type": "code",
   "execution_count": 38,
   "id": "9f40f3e2-226e-45ae-8561-f56d2611568b",
   "metadata": {},
   "outputs": [
    {
     "name": "stdout",
     "output_type": "stream",
     "text": [
      "running getdist on chains /Users/boris/Work/CLASS-SZ/SO-SZ/cosmopower-organization/notebooks/chains/planck_lensing_and_sdssfs8\n",
      "producing files in directory  ./\n",
      "/Users/boris/Work/CLASS-SZ/SO-SZ/cosmopower-organization/notebooks/chains/planck_lensing_and_sdssfs8.2.txt\n",
      "/Users/boris/Work/CLASS-SZ/SO-SZ/cosmopower-organization/notebooks/chains/planck_lensing_and_sdssfs8.3.txt\n",
      "/Users/boris/Work/CLASS-SZ/SO-SZ/cosmopower-organization/notebooks/chains/planck_lensing_and_sdssfs8.1.txt\n",
      "/Users/boris/Work/CLASS-SZ/SO-SZ/cosmopower-organization/notebooks/chains/planck_lensing_and_sdssfs8.4.txt\n",
      "Removed 0.2 as burn in\n",
      "Number of chains used =  4\n",
      " var(mean)/mean(var), remaining chains, worst e-value: R-1 =       0.00630\n",
      "RL: Thin for Markov:  23\n",
      "RL: Thin for indep samples:   23\n",
      "RL: Estimated burn in steps:  138  ( 51  rows)\n",
      "using 10986 rows, 13 parameters; mean weight 2.6953395230293102, tot weight 29611.0\n",
      "Approx indep samples (N/corr length): 1587\n",
      "Equiv number of single samples (sum w)/max(w): 1287\n",
      "Effective number of weighted samples (sum w)^2/sum(w^2): 6702\n",
      "Best fit sample -log(Like) = -7.098886\n",
      "Ln(mean 1/like) = -2.481970\n",
      "mean(-Ln(like)) = -4.704511\n",
      "-Ln(mean like)  = -5.433205\n",
      "adding derived parameters\n"
     ]
    },
    {
     "name": "stderr",
     "output_type": "stream",
     "text": [
      "producing files in directory  ./\n",
      "Removed 0.2 as burn in\n",
      "using 10986 rows, 13 parameters; mean weight 2.6953395230293102, tot weight 29611.0\n",
      "Approx indep samples (N/corr length): 1587\n",
      "Equiv number of single samples (sum w)/max(w): 1287\n",
      "Effective number of weighted samples (sum w)^2/sum(w^2): 6702\n",
      "Best fit sample -log(Like) = -7.098886\n",
      "Ln(mean 1/like) = -2.481970\n",
      "mean(-Ln(like)) = -4.704511\n",
      "-Ln(mean like)  = -5.433205\n"
     ]
    },
    {
     "name": "stdout",
     "output_type": "stream",
     "text": [
      "S8d5:  S_8 = 0.798\\pm 0.033\n",
      "CPU times: user 894 ms, sys: 89 ms, total: 983 ms\n",
      "Wall time: 924 ms\n"
     ]
    }
   ],
   "source": [
    "%%time\n",
    "path_to_chains = []\n",
    "final_chain_dir_list = []\n",
    "\n",
    "\n",
    "final_chain_dir_list.append(path_to_chains_dir +'planck_lensing_and_sdssfs8')\n",
    "path_to_chains.append(path_to_chains_dir)\n",
    "\n",
    "current_path = os.path.abspath(\"\")\n",
    "\n",
    "for i in range(len(final_chain_dir_list)):\n",
    "    os.chdir(path_to_chains[i])\n",
    "    print('running getdist on chains ' + final_chain_dir_list[i])\n",
    "    str_cmd_subprocess = [\"nice\",\"-n\",\"19\",'getdist',final_chain_dir_list[i],\"--ignore_rows\",\"0.2\"]\n",
    "    subprocess.call(str_cmd_subprocess)\n",
    "os.chdir(current_path)\n",
    "\n",
    "all_samples = []\n",
    "\n",
    "i=0\n",
    "readsamps = loadMCSamples(final_chain_dir_list[i],settings={'ignore_rows':0.3})\n",
    "p = readsamps.getParams()\n",
    "print('adding derived parameters')\n",
    "params_cp = {}\n",
    "params_cp['omega_b'] = p.omega_b\n",
    "params_cp['omega_cdm'] = p.omega_cdm\n",
    "params_cp['ln10^{10}A_s'] = p.logA\n",
    "params_cp['n_s'] = p.n_s\n",
    "params_cp['tau_reio'] = np.repeat(0.055,len(p.logA))\n",
    "params_cp['H0'] = p.H0\n",
    "predicted_der_params = cp_der_nn.ten_to_predictions_np(params_cp)\n",
    "readsamps.addDerived(predicted_der_params[:,1],name='sigma8',label=r'\\sigma_8')\n",
    "readsamps.addDerived(predicted_der_params[:,0],name='theta_s_1e2',label=r'100*\\theta_s')\n",
    "p = readsamps.getParams()\n",
    "readsamps.addDerived((p.H0/100.)**-2.*(p.omega_b+p.omega_cdm),name='Ombc',label=r'\\Omega_m')\n",
    "\n",
    "p = readsamps.getParams()\n",
    "readsamps.addDerived(p.sigma8*(p.Ombc/0.3)**0.5,name='S8d5',label=r'S_8')\n",
    "Fs = readsamps.getInlineLatex('S8d5',limit=1)\n",
    "print('S8d5: ',Fs)\n",
    "\n",
    "samples = readsamps\n",
    "samples.updateBaseStatistics()\n",
    "all_samples.append(samples)"
   ]
  },
  {
   "cell_type": "markdown",
   "id": "d706d8e5-5e40-46fd-98f2-797b71426d1b",
   "metadata": {},
   "source": [
    "## Plot contours"
   ]
  },
  {
   "cell_type": "code",
   "execution_count": 40,
   "id": "68620086-6d94-4d0d-be29-6338fb20cb7c",
   "metadata": {},
   "outputs": [
    {
     "data": {
      "image/png": "[encoded data removed]",
      "text/plain": [
       "<Figure size 1000x1000 with 36 Axes>"
      ]
     },
     "metadata": {},
     "output_type": "display_data"
    }
   ],
   "source": [
    "g = plots.getSubplotPlotter()\n",
    "g.settings.fig_width_inch = 10\n",
    "\n",
    "g.settings.axes_fontsize = 10\n",
    "g.settings.lab_fontsize =13\n",
    "\n",
    "g.settings.legend_fontsize = 14\n",
    "g.settings.alpha_filled_add=0.1\n",
    "g.settings.colorbar_label_pad = 20.\n",
    "g.settings.figure_legend_frame = False\n",
    "\n",
    "g.settings.title_limit=0 #uncomment if you want to display marg stats.\n",
    "\n",
    "sample_list = []\n",
    "for s in range(len(all_samples)):\n",
    "\n",
    "    sample_list.append(all_samples[s])\n",
    "    \n",
    "g.triangle_plot(sample_list,\n",
    "    [\n",
    "    'omega_cdm',\n",
    "    'omega_b',\n",
    "    'logA',\n",
    "    'n_s',\n",
    "    'H0',\n",
    "    'sigma8',\n",
    "    'Ombc',\n",
    "    'S8d5',\n",
    "    ],\n",
    "\n",
    "    filled=[True,False],\n",
    "    legend_labels=[ 'cosmopower'],\n",
    "    legend_loc='upper right',\n",
    "    colors = ['blue','red','green','red'],\n",
    "    line_args=[{'lw':'1','color':'blue'},{'lw':'1','color':'red'},{'lw':'1','color':'green'},{'lw':'1','color':'r'}]\n",
    "                   )\n",
    "\n",
    "\n",
    "g.export(path_to_chains_dir +'planck_lensing_and_sdssfs8_contours.pdf')"
   ]
  },
  {
   "cell_type": "code",
   "execution_count": null,
   "id": "76d795f9-50e1-4351-90e7-4ca422561f7f",
   "metadata": {},
   "outputs": [],
   "source": []
  }
 ],
 "metadata": {
  "kernelspec": {
   "display_name": "Python 3 (ipykernel)",
   "language": "python",
   "name": "python3"
  },
  "language_info": {
   "codemirror_mode": {
    "name": "ipython",
    "version": 3
   },
   "file_extension": ".py",
   "mimetype": "text/x-python",
   "name": "python",
   "nbconvert_exporter": "python",
   "pygments_lexer": "ipython3",
   "version": "3.9.13"
  }
 },
 "nbformat": 4,
 "nbformat_minor": 5
}
