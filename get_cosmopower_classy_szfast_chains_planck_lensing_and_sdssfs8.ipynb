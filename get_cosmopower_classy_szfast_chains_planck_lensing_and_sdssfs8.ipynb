{
 "cells": [
  {
   "cell_type": "markdown",
   "id": "ac99cae1-dd42-4603-8aa5-82952d01fd53",
   "metadata": {},
   "source": [
    "# Prerequisites"
   ]
  },
  {
   "cell_type": "markdown",
   "id": "9080465b-7fca-4fcf-b3bb-b87867a1b2aa",
   "metadata": {},
   "source": [
    "## cosmopower"
   ]
  },
  {
   "cell_type": "markdown",
   "id": "9d84e201-ceaf-4abe-9b80-8772b7bf09c7",
   "metadata": {},
   "source": [
    "To install cosmopower, visit:\n",
    "\n",
    "https://github.com/alessiospuriomancini/cosmopower\n",
    "\n",
    "\n",
    "Check cosmopower is installed:"
   ]
  },
  {
   "cell_type": "code",
   "execution_count": 1,
   "id": "29933714-ef8b-4c2b-8cfc-9add6f1e7d3c",
   "metadata": {},
   "outputs": [],
   "source": [
    "import cosmopower"
   ]
  },
  {
   "cell_type": "markdown",
   "id": "9e9114e6-73ab-4596-977b-2b3224c5a264",
   "metadata": {},
   "source": [
    "## cobaya"
   ]
  },
  {
   "cell_type": "markdown",
   "id": "d23e35a7-4b85-4849-b349-ef6af53a1a24",
   "metadata": {},
   "source": [
    "To install cobaya, visit: \n",
    "\n",
    "https://cobaya.readthedocs.io/en/latest/installation.html\n",
    "\n",
    "Check cobaya is installed:"
   ]
  },
  {
   "cell_type": "code",
   "execution_count": 2,
   "id": "8ae082cd-0917-4cca-a76c-61340544c6e7",
   "metadata": {},
   "outputs": [],
   "source": [
    "import cobaya"
   ]
  },
  {
   "cell_type": "markdown",
   "id": "34ebf705-1ea5-4a33-936e-f97d30ea2c14",
   "metadata": {},
   "source": [
    "If you want to run with BAO,\n",
    "there is one further hack that you need. Please get in touch if you need that.  \n"
   ]
  },
  {
   "cell_type": "markdown",
   "id": "36c6e0a5-c9d9-4929-b94b-09bcde3e2cbc",
   "metadata": {},
   "source": [
    "## getdist"
   ]
  },
  {
   "cell_type": "markdown",
   "id": "b6b6a8d1-1ae6-4bea-8b59-c626b2ef54bd",
   "metadata": {},
   "source": [
    "To install getdist, visit:\n",
    "\n",
    "https://getdist.readthedocs.io/en/latest/intro.html\n",
    "\n",
    "Check getdist is installed\n"
   ]
  },
  {
   "cell_type": "code",
   "execution_count": 3,
   "id": "3be39aac-329f-468a-aebc-c9466b82dd67",
   "metadata": {},
   "outputs": [],
   "source": [
    "import getdist"
   ]
  },
  {
   "cell_type": "markdown",
   "id": "b4886569-c0cc-469f-9173-12dd28743557",
   "metadata": {},
   "source": [
    "## cobaya wrapper"
   ]
  },
  {
   "cell_type": "markdown",
   "id": "a329d855-c7ca-4e9f-83b4-75074cf090f7",
   "metadata": {},
   "source": [
    "The cobaya wrapper is in the notebook/cobaya_wrapper sub-directory.\n",
    "You should copy paste the notebook/cobaya_wrapper/cosmopower directory inside cobaya/theories. \n",
    "\n",
    "So you have a comso="
   ]
  },
  {
   "cell_type": "markdown",
   "id": "3555edfe-74da-4835-95c6-c738cf1d2132",
   "metadata": {},
   "source": [
    "## cosmopower emulators\n",
    "\n",
    "Make a cosmopower-organtization repository to store the emulaotors. It can be wherever on your system: <br>\n",
    "\n",
    "$ mkdir cosmopower-organtization <br>\n",
    "\n",
    "Then clone the emulators inside it: <br>\n",
    "\n",
    "$ cd cosmopower-organtization <br>\n",
    "\n",
    "$ git clone https://github.com/cosmopower-organization/lcdm.git <br>\n",
    "\n",
    "Now we need to set the path to this repository. <br>\n",
    "Mine is just one level above where we are now, so: (adapt to your needs!)"
   ]
  },
  {
   "cell_type": "code",
   "execution_count": 4,
   "id": "37701d83-4dad-4770-89b9-ca9ae2dc1564",
   "metadata": {},
   "outputs": [],
   "source": [
    "import os\n",
    "root_path = os.path.abspath(\"\")\n",
    "path_to_cosmopower_organization = root_path + '/../../cosmopower-organization/' "
   ]
  },
  {
   "cell_type": "markdown",
   "id": "26df01b6-cebc-4f7c-b200-db24c5ed36de",
   "metadata": {},
   "source": [
    "Finally, the path to the emulators is:"
   ]
  },
  {
   "cell_type": "code",
   "execution_count": 5,
   "id": "5fe9e624-48cd-497c-8383-e0a29e8f274e",
   "metadata": {},
   "outputs": [],
   "source": [
    "path_to_emulators = path_to_cosmopower_organization + 'lcdm/'"
   ]
  },
  {
   "cell_type": "markdown",
   "id": "afcd4ef1-eea8-4c0b-a49d-5edc28001367",
   "metadata": {},
   "source": [
    "Check that these paths are correctly set:"
   ]
  },
  {
   "cell_type": "code",
   "execution_count": 6,
   "id": "4d779fb9-ca55-4a40-ae96-956e391aaa4b",
   "metadata": {},
   "outputs": [
    {
     "name": "stdout",
     "output_type": "stream",
     "text": [
      "inside lcdm:\n",
      "\u001b[34mPK\u001b[m\u001b[m\n",
      "\u001b[34mPP\u001b[m\u001b[m\n",
      "README.md\n",
      "\u001b[34mTTTEEE\u001b[m\u001b[m\n",
      "\u001b[34mderived-parameters\u001b[m\u001b[m\n",
      "\u001b[34mgrowth-and-distances\u001b[m\u001b[m\n",
      "0\n",
      "\n",
      "inside mnu:\n",
      "\u001b[34mPK\u001b[m\u001b[m\n",
      "\u001b[34mPP\u001b[m\u001b[m\n",
      "README.md\n",
      "\u001b[34mTTTEEE\u001b[m\u001b[m\n",
      "\u001b[34mderived-parameters\u001b[m\u001b[m\n",
      "\u001b[34mgrowth-and-distances\u001b[m\u001b[m\n",
      "\n",
      "inside wcdm:\n",
      "\u001b[34mPK\u001b[m\u001b[m\n",
      "\u001b[34mPP\u001b[m\u001b[m\n",
      "README.md\n",
      "\u001b[34mTTTEEE\u001b[m\u001b[m\n",
      "\u001b[34mderived-parameters\u001b[m\u001b[m\n",
      "\u001b[34mgrowth-and-distances\u001b[m\u001b[m\n",
      "\n",
      "inside neff:\n",
      "\u001b[34mPK\u001b[m\u001b[m\n",
      "\u001b[34mPP\u001b[m\u001b[m\n",
      "README.md\n",
      "\u001b[34mTTTEEE\u001b[m\u001b[m\n",
      "\u001b[34mderived-parameters\u001b[m\u001b[m\n",
      "\u001b[34mgrowth-and-distances\u001b[m\u001b[m\n"
     ]
    },
    {
     "data": {
      "text/plain": [
       "0"
      ]
     },
     "execution_count": 6,
     "metadata": {},
     "output_type": "execute_result"
    }
   ],
   "source": [
    "import subprocess\n",
    "path_to_emulators = path_to_cosmopower_organization + 'lcdm/'\n",
    "str_cmd_subprocess = [\"ls\",path_to_emulators]\n",
    "print('inside lcdm:')\n",
    "print(subprocess.call(str_cmd_subprocess))\n",
    "\n",
    "path_to_emulators = path_to_cosmopower_organization + 'mnu/'\n",
    "str_cmd_subprocess = [\"ls\",path_to_emulators]\n",
    "print('\\ninside mnu:')\n",
    "subprocess.call(str_cmd_subprocess)\n",
    "\n",
    "path_to_emulators = path_to_cosmopower_organization + 'wcdm/'\n",
    "str_cmd_subprocess = [\"ls\",path_to_emulators]\n",
    "print('\\ninside wcdm:')\n",
    "subprocess.call(str_cmd_subprocess)\n",
    "\n",
    "path_to_emulators = path_to_cosmopower_organization + 'neff/'\n",
    "str_cmd_subprocess = [\"ls\",path_to_emulators]\n",
    "print('\\ninside neff:')\n",
    "subprocess.call(str_cmd_subprocess)"
   ]
  },
  {
   "cell_type": "markdown",
   "id": "63b7ffdd-20e9-48f8-9971-94dbea44c32c",
   "metadata": {},
   "source": [
    "# Initialize"
   ]
  },
  {
   "cell_type": "code",
   "execution_count": 7,
   "id": "d775e88a-d96b-40a0-be0c-6a4ef571365b",
   "metadata": {},
   "outputs": [],
   "source": [
    "import numpy as np\n",
    "import scipy\n",
    "import yaml\n",
    "\n",
    "\n",
    "from getdist import loadMCSamples, MCSamples\n",
    "from getdist import plots\n",
    "\n",
    "from cosmopower import cosmopower_NN\n",
    "from cosmopower import cosmopower_PCAplusNN\n",
    "\n",
    "\n",
    "import soliket\n",
    "import cobaya\n",
    "\n",
    "\n",
    "#\n",
    "import matplotlib\n",
    "import matplotlib.pyplot as plt\n",
    "%matplotlib inline\n",
    "#\n",
    "font = {'size'   : 16, 'family':'STIXGeneral'}\n",
    "axislabelfontsize='large'\n",
    "matplotlib.rc('font', **font)"
   ]
  },
  {
   "cell_type": "markdown",
   "id": "d47bbba9-f504-4c08-aba7-be6077199217",
   "metadata": {},
   "source": [
    "We will save chains in the chain directory insied the repository where this notebook is"
   ]
  },
  {
   "cell_type": "code",
   "execution_count": 8,
   "id": "3cb7a120-3dd9-4278-b3ed-ee031d7d73c3",
   "metadata": {},
   "outputs": [
    {
     "name": "stdout",
     "output_type": "stream",
     "text": [
      "/Users/boris/Work/CLASS-SZ/SO-SZ/cosmopower-organization/notebooks/chains/\n"
     ]
    }
   ],
   "source": [
    "path_to_chains_dir = root_path + '/chains/'\n",
    "\n",
    "print(path_to_chains_dir)"
   ]
  },
  {
   "cell_type": "markdown",
   "id": "3f980fd1-f97f-437f-8c95-0c89331c7536",
   "metadata": {},
   "source": [
    "Path to the cobaya packages, see the cobaya documentation."
   ]
  },
  {
   "cell_type": "code",
   "execution_count": 9,
   "id": "5ed5223c-37d1-47ec-9690-95f9e4e8cb19",
   "metadata": {},
   "outputs": [],
   "source": [
    "path_to_cobaya_packages_data = '/Users/boris/Work/CLASS-SZ/SO-SZ/cobaya_packages/data'"
   ]
  },
  {
   "cell_type": "markdown",
   "id": "2fa2601f-d79c-4f1a-898d-d62d27e3807e",
   "metadata": {},
   "source": [
    "Load the emulators:"
   ]
  },
  {
   "cell_type": "code",
   "execution_count": 10,
   "id": "d905041b-e566-4ce5-9dec-797c8b9afc9e",
   "metadata": {},
   "outputs": [
    {
     "name": "stdout",
     "output_type": "stream",
     "text": [
      "Metal device set to: Apple M1 Pro\n",
      "WARNING:tensorflow:Please fix your imports. Module tensorflow.python.training.tracking.data_structures has been moved to tensorflow.python.trackable.data_structures. The old module will be deleted in version 2.11.\n"
     ]
    },
    {
     "name": "stderr",
     "output_type": "stream",
     "text": [
      "2023-03-31 14:48:53.169892: I tensorflow/core/common_runtime/pluggable_device/pluggable_device_factory.cc:306] Could not identify NUMA node of platform GPU ID 0, defaulting to 0. Your kernel may not have been built with NUMA support.\n",
      "2023-03-31 14:48:53.170721: I tensorflow/core/common_runtime/pluggable_device/pluggable_device_factory.cc:272] Created TensorFlow device (/job:localhost/replica:0/task:0/device:GPU:0 with 0 MB memory) -> physical PluggableDevice (device: 0, name: METAL, pci bus id: <undefined>)\n"
     ]
    },
    {
     "name": "stdout",
     "output_type": "stream",
     "text": [
      "CPU times: user 190 ms, sys: 158 ms, total: 348 ms\n",
      "Wall time: 453 ms\n"
     ]
    }
   ],
   "source": [
    "%%time\n",
    "path_to_emulators = path_to_cosmopower_organization + 'lcdm/'\n",
    "\n",
    "cp_tt_nn = cosmopower_NN(restore=True,\n",
    "                      restore_filename=path_to_emulators + 'TTTEEE/TT_v1'\n",
    "                      )\n",
    "\n",
    "cp_te_nn = cosmopower_PCAplusNN(restore=True, \n",
    "                                 restore_filename=path_to_emulators + 'TTTEEE/TE_v1'\n",
    "                                 )\n",
    "\n",
    "cp_ee_nn = cosmopower_NN(restore=True,\n",
    "                      restore_filename=path_to_emulators + 'TTTEEE/EE_v1'\n",
    "                      )\n",
    "\n",
    "cp_pp_nn = cosmopower_NN(restore=True,\n",
    "                      restore_filename=path_to_emulators + 'PP/PP_v1',\n",
    "                      )\n",
    "cp_pknl_nn = cosmopower_NN(restore=True,\n",
    "                      restore_filename=path_to_emulators + 'PK/PKNL_v1',\n",
    "                      )\n",
    "\n",
    "cp_pkl_nn = cosmopower_NN(restore=True,\n",
    "                      restore_filename=path_to_emulators + 'PK/PKL_v1',\n",
    "                      )\n",
    "\n",
    "cp_der_nn = cosmopower_NN(restore=True,\n",
    "                      restore_filename=path_to_emulators + 'derived-parameters/DER_v1',\n",
    "                      )\n",
    "\n",
    "\n",
    "cp_da_nn = cosmopower_NN(restore=True,\n",
    "                      restore_filename=path_to_emulators + 'growth-and-distances/DAZ_v1',\n",
    "                      )   \n",
    "    \n",
    "cp_h_nn = cosmopower_NN(restore=True,\n",
    "                      restore_filename=path_to_emulators + 'growth-and-distances/HZ_v1',\n",
    "                      ) \n",
    "cp_s8_nn = cosmopower_NN(restore=True,\n",
    "                      restore_filename=path_to_emulators + 'growth-and-distances/S8Z_v1',\n",
    "                      ) \n"
   ]
  },
  {
   "cell_type": "markdown",
   "id": "79cbe133-21ec-4c9d-b96b-9a005b0d8186",
   "metadata": {},
   "source": [
    "# Lensing + SDSS $f\\sigma_8$ - LCDM"
   ]
  },
  {
   "cell_type": "markdown",
   "id": "e12b576f-75c9-4a46-a26e-936805442294",
   "metadata": {},
   "source": [
    "## Set-up of the input file"
   ]
  },
  {
   "cell_type": "markdown",
   "id": "4dcba7a2-300f-4cf5-b6a5-9518fc9c465f",
   "metadata": {},
   "source": [
    "We need to load the template and add the correct paths to the data files and where we save the chains:"
   ]
  },
  {
   "cell_type": "code",
   "execution_count": 14,
   "id": "f277fce6-a29e-41c8-8f79-acc15868aacb",
   "metadata": {},
   "outputs": [
    {
     "name": "stdout",
     "output_type": "stream",
     "text": [
      "{'output': 'planck_lensing_and_sdssfs8', 'likelihood': {'planck_2018_lensing.CMBMarged': {'path': '/path/to/cobaya_packages/data/planck_supp_data_and_covmats'}, 'bao.sdss_dr12_consensus_full_shape': {'path': '/path/to/cobaya_packages/data/'}}, 'theory': {'cosmopower': {'path_to_trained_models': '/path/to/trained_models/', 'DAZ_emulator_name': 'growth-and-distances/DAZ_v1', 'HZ_emulator_name': 'growth-and-distances/HZ_v1', 'DER_emulator_name': 'derived-parameters/DER_v1', 'S8Z_emulator_name': 'growth-and-distances/S8Z_v1', 'PP_emulator_name': 'PP/PP_v1', 'lensing_lkl': 'Planck'}}, 'params': {'omega_b': {'prior': {'min': 0.01933, 'max': 0.02533}, 'ref': {'dist': 'norm', 'loc': 0.022211104, 'scale': 0.00088253849}, 'proposal': 0.00088253849, 'latex': 'omega_b'}, 'omega_cdm': {'prior': {'min': 0.08, 'max': 0.2}, 'ref': {'dist': 'norm', 'loc': 0.12590565, 'scale': 0.012255042}, 'proposal': 0.012255042, 'latex': 'omega_cdm'}, 'H0': {'prior': {'min': 40.0, 'max': 99.0}, 'ref': {'dist': 'norm', 'loc': 69.351243, 'scale': 17.146899}, 'proposal': 17.146899, 'latex': 'H0'}, 'n_s': {'prior': {'min': 0.8812, 'max': 1.0492}, 'ref': {'dist': 'norm', 'loc': 0.95989286, 'scale': 0.019465327}, 'proposal': 0.019465327, 'latex': 'n_s'}, 'logA': {'prior': {'min': 2.5, 'max': 3.5}, 'ref': {'dist': 'norm', 'loc': 2.9939341, 'scale': 0.12892144}, 'proposal': 0.12892144, 'latex': 'ln10^{10}A_s'}, 'tau_reio': 0.055}, 'prior': {'ns_prior': 'lambda n_s: stats.norm.logpdf(n_s, loc=0.96, scale=0.02)', 'omb_prior': 'lambda omega_b: stats.norm.logpdf(omega_b, loc=0.0222, scale=0.0005)'}, 'sampler': {'mcmc': {'covmat': 'planck_lensing_and_sdssfs8.covmat', 'Rminus1_stop': 0.01, 'proposal_scale': 1.9, 'burn_in': 50, 'max_tries': 5000, 'learn_proposal': True, 'learn_proposal_Rminus1_max': 30.0, 'learn_proposal_Rminus1_max_early': 80.0}}}\n"
     ]
    }
   ],
   "source": [
    "planck_lensing_and_sdssfs8_yaml = yaml.safe_load(open('mcmc_input_files/planck_lensing_and_sdssfs8.yaml'))\n",
    "print(planck_lensing_and_sdssfs8_yaml)"
   ]
  },
  {
   "cell_type": "code",
   "execution_count": 15,
   "id": "596844d5-dff6-4bd3-93f7-a7d485f0452c",
   "metadata": {},
   "outputs": [],
   "source": [
    "planck_lensing_and_sdssfs8_yaml['output'] = path_to_chains_dir +'planck_lensing_and_sdssfs8'\n",
    "planck_lensing_and_sdssfs8_yaml['sampler']['mcmc']['covmat'] = path_to_chains_dir + '../covmats/planck_lensing_and_sdssfs8.covmat'\n",
    "planck_lensing_and_sdssfs8_yaml['sampler']['mcmc']['Rminus1_stop'] = 0.1\n",
    "planck_lensing_and_sdssfs8_yaml['theory']['cosmopower']['path_to_trained_models'] = path_to_emulators\n",
    "planck_lensing_and_sdssfs8_yaml['likelihood']['planck_2018_lensing.CMBMarged']['path'] = path_to_cobaya_packages_data + '/planck_supp_data_and_covmats'\n",
    "planck_lensing_and_sdssfs8_yaml['likelihood']['bao.sdss_dr12_consensus_full_shape']['path'] = path_to_cobaya_packages_data \n",
    "\n",
    "with open('mcmc_input_files/planck_lensing_and_sdssfs8_system.yaml', 'w') as outfile:\n",
    "    yaml.dump(planck_lensing_and_sdssfs8_yaml, outfile, default_flow_style=False)"
   ]
  },
  {
   "cell_type": "markdown",
   "id": "7943f14c-c16c-472f-b828-973668367f3d",
   "metadata": {},
   "source": [
    "## Run the chains"
   ]
  },
  {
   "cell_type": "code",
   "execution_count": 16,
   "id": "006ca237-fef8-4465-9d57-d5ba01aae1b4",
   "metadata": {
    "tags": []
   },
   "outputs": [
    {
     "name": "stdout",
     "output_type": "stream",
     "text": [
      "[0 : output] Output to be read-from/written-into folder '/Users/boris/Work/CLASS-SZ/SO-SZ/cosmopower-organization/notebooks/chains', with prefix 'planck_lensing_and_sdssfs8'\n",
      "[0 : output] Found existing info files with the requested output prefix: '/Users/boris/Work/CLASS-SZ/SO-SZ/cosmopower-organization/notebooks/chains/planck_lensing_and_sdssfs8'\n",
      "[0 : output] Will delete previous products ('force' was requested).\n",
      "[0 : prior] *WARNING* External prior 'ns_prior' loaded. Mind that it might not be normalized!\n",
      "[0 : prior] *WARNING* External prior 'omb_prior' loaded. Mind that it might not be normalized!\n",
      "Metal device set to: Apple M1 Pro\n",
      "Metal device set to: Apple M1 Pro\n",
      "\n",
      "systemMemory: 16.00 GB\n",
      "maxCacheSize: 5.33 GB\n",
      "\n",
      "Metal device set to: Apple M1 Pro\n",
      "\n",
      "systemMemory: 16.00 GB\n",
      "maxCacheSize: 5.33 GB\n",
      "\n",
      "Metal device set to: Apple M1 Pro\n",
      "\n",
      "systemMemory: 16.00 GB\n",
      "maxCacheSize: 5.33 GB\n",
      "\n",
      "\n",
      "systemMemory: 16.00 GB\n",
      "maxCacheSize: 5.33 GB\n",
      "\n",
      "[1 : tensorflow] *WARNING* Please fix your imports. Module tensorflow.python.training.tracking.data_structures has been moved to tensorflow.python.trackable.data_structures. The old module will be deleted in version 2.11.\n",
      "[0 : tensorflow] *WARNING* Please fix your imports. Module tensorflow.python.training.tracking.data_structures has been moved to tensorflow.python.trackable.data_structures. The old module will be deleted in version 2.11.\n",
      "[3 : tensorflow] *WARNING* Please fix your imports. Module tensorflow.python.training.tracking.data_structures has been moved to tensorflow.python.trackable.data_structures. The old module will be deleted in version 2.11.\n",
      "[2 : tensorflow] *WARNING* Please fix your imports. Module tensorflow.python.training.tracking.data_structures has been moved to tensorflow.python.trackable.data_structures. The old module will be deleted in version 2.11.\n"
     ]
    },
    {
     "name": "stderr",
     "output_type": "stream",
     "text": [
      "2023-03-31 14:51:01.598409: I tensorflow/core/common_runtime/pluggable_device/pluggable_device_factory.cc:306] Could not identify NUMA node of platform GPU ID 0, defaulting to 0. Your kernel may not have been built with NUMA support.\n",
      "2023-03-31 14:51:01.598409: I tensorflow/core/common_runtime/pluggable_device/pluggable_device_factory.cc:306] Could not identify NUMA node of platform GPU ID 0, defaulting to 0. Your kernel may not have been built with NUMA support.\n",
      "2023-03-31 14:51:01.598409: I tensorflow/core/common_runtime/pluggable_device/pluggable_device_factory.cc:306] Could not identify NUMA node of platform GPU ID 0, defaulting to 0. Your kernel may not have been built with NUMA support.\n",
      "2023-03-31 14:51:01.598409: I tensorflow/core/common_runtime/pluggable_device/pluggable_device_factory.cc:306] Could not identify NUMA node of platform GPU ID 0, defaulting to 0. Your kernel may not have been built with NUMA support.\n",
      "2023-03-31 14:51:01.598534: I tensorflow/core/common_runtime/pluggable_device/pluggable_device_factory.cc:272] Created TensorFlow device (/job:localhost/replica:0/task:0/device:GPU:0 with 0 MB memory) -> physical PluggableDevice (device: 0, name: METAL, pci bus id: <undefined>)\n",
      "2023-03-31 14:51:01.598541: I tensorflow/core/common_runtime/pluggable_device/pluggable_device_factory.cc:272] Created TensorFlow device (/job:localhost/replica:0/task:0/device:GPU:0 with 0 MB memory) -> physical PluggableDevice (device: 0, name: METAL, pci bus id: <undefined>)\n",
      "2023-03-31 14:51:01.598554: I tensorflow/core/common_runtime/pluggable_device/pluggable_device_factory.cc:272] Created TensorFlow device (/job:localhost/replica:0/task:0/device:GPU:0 with 0 MB memory) -> physical PluggableDevice (device: 0, name: METAL, pci bus id: <undefined>)\n",
      "2023-03-31 14:51:01.598555: I tensorflow/core/common_runtime/pluggable_device/pluggable_device_factory.cc:272] Created TensorFlow device (/job:localhost/replica:0/task:0/device:GPU:0 with 0 MB memory) -> physical PluggableDevice (device: 0, name: METAL, pci bus id: <undefined>)\n"
     ]
    },
    {
     "name": "stdout",
     "output_type": "stream",
     "text": [
      "[3 : cosmopower] Initialized!\n",
      "[2 : cosmopower] Initialized!\n",
      "[0 : cosmopower] Initialized!\n",
      "[1 : cosmopower] Initialized!\n",
      "[0 : bao.sdss_dr12_consensus_full_shape] Initialized.\n",
      "[1 : bao.sdss_dr12_consensus_full_shape] Initialized.\n",
      "[2 : bao.sdss_dr12_consensus_full_shape] Initialized.\n",
      "[3 : bao.sdss_dr12_consensus_full_shape] Initialized.\n",
      "[1 : mcmc] Getting initial point... (this may take a few seconds)\n",
      "[2 : mcmc] Getting initial point... (this may take a few seconds)\n",
      "[3 : mcmc] Getting initial point... (this may take a few seconds)\n",
      "[0 : mcmc] Getting initial point... (this may take a few seconds)\n",
      "[0 : model] Measuring speeds... (this may take a few seconds)\n",
      "[0 : model] Setting measured speeds (per sec): {bao.sdss_dr12_consensus_full_shape: 2740.0, planck_2018_lensing.CMBMarged: 1870.0, cosmopower: 30.4}\n",
      "[2 : mcmc] Initial point: H0:80.95499, logA:2.832095, n_s:0.9665288, omega_b:0.02321858, omega_cdm:0.1244017\n",
      "[0 : mcmc] Initial point: H0:41.53392, logA:2.918141, n_s:0.9590586, omega_b:0.02258364, omega_cdm:0.1245096\n",
      "[3 : mcmc] Initial point: H0:82.72558, logA:2.950186, n_s:0.9843954, omega_b:0.02340367, omega_cdm:0.1275104\n",
      "[1 : mcmc] Initial point: H0:73.62325, logA:3.021989, n_s:0.9549629, omega_b:0.02241835, omega_cdm:0.1294529\n",
      "[0 : mcmc] Covariance matrix loaded for params ['H0', 'logA', 'n_s', 'omega_b', 'omega_cdm']\n",
      "[0 : mcmc] All parameters' covariance loaded from given covmat.\n",
      "[0 : mcmc] Sampling! (NB: no accepted step will be saved until 50 burn-in samples have been obtained)\n",
      "[1 : mcmc] Progress @ 2023-03-31 14:51:04 : 1 steps taken -- still burning in, 51 accepted steps left.\n",
      "[2 : mcmc] Progress @ 2023-03-31 14:51:04 : 1 steps taken -- still burning in, 51 accepted steps left.\n",
      "[0 : mcmc] Progress @ 2023-03-31 14:51:04 : 1 steps taken -- still burning in, 50 accepted steps left.\n",
      "[3 : mcmc] Progress @ 2023-03-31 14:51:04 : 1 steps taken -- still burning in, 51 accepted steps left.\n",
      "[2 : mcmc] Finished burn-in phase: discarded 50 accepted steps.\n",
      "[1 : mcmc] Finished burn-in phase: discarded 50 accepted steps.\n",
      "[3 : mcmc] Finished burn-in phase: discarded 50 accepted steps.\n",
      "[0 : mcmc] Finished burn-in phase: discarded 50 accepted steps.\n",
      "[1 : mcmc] Progress @ 2023-03-31 14:52:04 : 2683 steps taken, and 152 accepted.\n",
      "[2 : mcmc] Progress @ 2023-03-31 14:52:04 : 2620 steps taken, and 163 accepted.\n",
      "[3 : mcmc] Progress @ 2023-03-31 14:52:04 : 2581 steps taken, and 160 accepted.\n",
      "[0 : mcmc] Progress @ 2023-03-31 14:52:04 : 2608 steps taken, and 146 accepted.\n",
      "[2 : mcmc] Learn + convergence test @ 200 samples accepted.\n",
      "[2 : mcmc] Ready to check convergence and learn a new proposal covmat (waiting for the rest...)\n",
      "[3 : mcmc] Learn + convergence test @ 200 samples accepted.\n",
      "[3 : mcmc] Ready to check convergence and learn a new proposal covmat (waiting for the rest...)\n",
      "[1 : mcmc] Learn + convergence test @ 200 samples accepted.\n",
      "[1 : mcmc] Ready to check convergence and learn a new proposal covmat (waiting for the rest...)\n",
      "[0 : mcmc] Learn + convergence test @ 200 samples accepted.\n",
      "[0 : mcmc] Ready to check convergence and learn a new proposal covmat (waiting for the rest...)\n",
      "[0 : mcmc] All chains are ready to check convergence and learn a new proposal covmat\n",
      "[0 : mcmc]  - Acceptance rate: 0.074 = avg([0.07776049766718507, 0.07336182336182336, 0.07014157014157014, 0.07664233576642336])\n",
      "[0 : mcmc]  - Convergence of means: R-1 = 0.417411 after 832 accepted steps = sum([200, 205, 218, 209])\n",
      "[0 : mcmc]  - Updated covariance matrix of proposal pdf.\n",
      "[2 : mcmc] Learn + convergence test @ 400 samples accepted.\n",
      "[2 : mcmc] Ready to check convergence and learn a new proposal covmat (waiting for the rest...)\n",
      "[1 : mcmc] Learn + convergence test @ 400 samples accepted.\n",
      "[1 : mcmc] Ready to check convergence and learn a new proposal covmat (waiting for the rest...)\n",
      "[3 : mcmc] Learn + convergence test @ 400 samples accepted.\n",
      "[3 : mcmc] Ready to check convergence and learn a new proposal covmat (waiting for the rest...)\n",
      "[0 : mcmc] Learn + convergence test @ 400 samples accepted.\n",
      "[0 : mcmc] Ready to check convergence and learn a new proposal covmat (waiting for the rest...)\n",
      "[0 : mcmc] All chains are ready to check convergence and learn a new proposal covmat\n",
      "[0 : mcmc]  - Acceptance rate: 0.365 = avg([0.40524193548387094, 0.4043824701195219, 0.32262996941896027, 0.33114754098360655])\n",
      "[0 : mcmc]  - Convergence of means: R-1 = 0.188060 after 1632 accepted steps = sum([401, 406, 422, 403])\n",
      "[0 : mcmc]  - Updated covariance matrix of proposal pdf.\n",
      "[1 : mcmc] Learn + convergence test @ 600 samples accepted.\n",
      "[1 : mcmc] Ready to check convergence and learn a new proposal covmat (waiting for the rest...)\n",
      "[3 : mcmc] Learn + convergence test @ 600 samples accepted.\n",
      "[3 : mcmc] Ready to check convergence and learn a new proposal covmat (waiting for the rest...)\n",
      "[2 : mcmc] Learn + convergence test @ 600 samples accepted.\n",
      "[2 : mcmc] Ready to check convergence and learn a new proposal covmat (waiting for the rest...)\n",
      "[0 : mcmc] Learn + convergence test @ 600 samples accepted.\n",
      "[0 : mcmc] Ready to check convergence and learn a new proposal covmat (waiting for the rest...)\n",
      "[0 : mcmc] All chains are ready to check convergence and learn a new proposal covmat\n",
      "[0 : mcmc]  - Acceptance rate: 0.399 = avg([0.38961038961038963, 0.4229195088676671, 0.37952559300873906, 0.40234375])\n",
      "[0 : mcmc]  - Convergence of means: R-1 = 0.138853 after 2443 accepted steps = sum([600, 619, 607, 617])\n",
      "[0 : mcmc]  - Updated covariance matrix of proposal pdf.\n",
      "[1 : mcmc] Learn + convergence test @ 800 samples accepted.\n",
      "[1 : mcmc] Ready to check convergence and learn a new proposal covmat (waiting for the rest...)\n",
      "[2 : mcmc] Learn + convergence test @ 800 samples accepted.\n",
      "[2 : mcmc] Ready to check convergence and learn a new proposal covmat (waiting for the rest...)\n",
      "[3 : mcmc] Learn + convergence test @ 800 samples accepted.\n",
      "[3 : mcmc] Ready to check convergence and learn a new proposal covmat (waiting for the rest...)\n",
      "[0 : mcmc] Learn + convergence test @ 800 samples accepted.\n",
      "[0 : mcmc] Ready to check convergence and learn a new proposal covmat (waiting for the rest...)\n",
      "[0 : mcmc] All chains are ready to check convergence and learn a new proposal covmat\n",
      "[0 : mcmc]  - Acceptance rate: 0.386 = avg([0.38045540796963945, 0.4062196307094266, 0.3744292237442922, 0.38140417457305503])\n",
      "[0 : mcmc]  - Convergence of means: R-1 = 0.046682 after 3259 accepted steps = sum([801, 836, 819, 803])\n",
      "[0 : mcmc]  - Updated covariance matrix of proposal pdf.\n",
      "[1 : mcmc] Progress @ 2023-03-31 14:53:04 : 4996 steps taken, and 854 accepted.\n",
      "[2 : mcmc] Progress @ 2023-03-31 14:53:04 : 4990 steps taken, and 830 accepted.\n",
      "[0 : mcmc] Progress @ 2023-03-31 14:53:04 : 4903 steps taken, and 814 accepted.\n",
      "[3 : mcmc] Progress @ 2023-03-31 14:53:04 : 4867 steps taken, and 824 accepted.\n",
      "[1 : mcmc] Learn + convergence test @ 1000 samples accepted.\n",
      "[1 : mcmc] Ready to check convergence and learn a new proposal covmat (waiting for the rest...)\n",
      "[3 : mcmc] Learn + convergence test @ 1000 samples accepted.\n",
      "[3 : mcmc] Ready to check convergence and learn a new proposal covmat (waiting for the rest...)\n",
      "[0 : mcmc] Learn + convergence test @ 1000 samples accepted.\n",
      "[0 : mcmc] Ready to check convergence and learn a new proposal covmat (waiting for the rest...)\n",
      "[2 : mcmc] Learn + convergence test @ 1000 samples accepted.\n",
      "[2 : mcmc] Ready to check convergence and learn a new proposal covmat (waiting for the rest...)\n",
      "[0 : mcmc] All chains are ready to check convergence and learn a new proposal covmat\n",
      "[0 : mcmc]  - Acceptance rate: 0.377 = avg([0.3784800601956358, 0.3875094055680963, 0.35739814152966404, 0.38286580742987114])\n",
      "[0 : mcmc]  - Convergence of means: R-1 = 0.031780 after 4045 accepted steps = sum([1005, 1030, 1000, 1010])\n",
      "[0 : mcmc]  - Convergence of bounds: R-1 = 0.124742 after 4045 accepted steps = sum([1005, 1030, 1000, 1010])\n",
      "[0 : mcmc] The run has converged!\n",
      "[0 : mcmc] Sampling complete after 4045 accepted steps.\n",
      "\u001b[0m\u001b[0m\u001b[0m\u001b[0mCPU times: user 27.1 ms, sys: 49.3 ms, total: 76.4 ms\n",
      "Wall time: 2min 23s\n"
     ]
    },
    {
     "data": {
      "text/plain": [
       "0"
      ]
     },
     "execution_count": 16,
     "metadata": {},
     "output_type": "execute_result"
    }
   ],
   "source": [
    "%%time\n",
    "str_cmd_subprocess = [\"mpirun\",\n",
    "                      \"-np\",\"4\",\n",
    "                      \"cobaya-run\",\n",
    "                      \"mcmc_input_files/planck_lensing_and_sdssfs8_system.yaml\",\n",
    "                      \"-f\"]\n",
    "subprocess.call(str_cmd_subprocess)"
   ]
  },
  {
   "cell_type": "markdown",
   "id": "c990ff5d-9261-4c05-9a99-aded5413855e",
   "metadata": {},
   "source": [
    "# Plot with getdist"
   ]
  },
  {
   "cell_type": "markdown",
   "id": "e65baa9b-f38c-4859-9a17-cd4c0a929567",
   "metadata": {},
   "source": [
    "## Analyse"
   ]
  },
  {
   "cell_type": "code",
   "execution_count": 17,
   "id": "9f40f3e2-226e-45ae-8561-f56d2611568b",
   "metadata": {},
   "outputs": [
    {
     "name": "stdout",
     "output_type": "stream",
     "text": [
      "running getdist on chains /Users/boris/Work/CLASS-SZ/SO-SZ/cosmopower-organization/notebooks/chains/planck_lensing_and_sdssfs8\n"
     ]
    },
    {
     "name": "stderr",
     "output_type": "stream",
     "text": [
      "WARNING:root:outlier fraction 0.004326328800988875 \n",
      "producing files in directory  ./\n",
      "Removed 0.2 as burn in\n",
      "using 3236 rows, 13 parameters; mean weight 2.7095179233621756, tot weight 8768.0\n",
      "Approx indep samples (N/corr length): 330\n",
      "Equiv number of single samples (sum w)/max(w): 237\n",
      "Effective number of weighted samples (sum w)^2/sum(w^2): 1632\n",
      "Best fit sample -log(Like) = -7.031632\n",
      "Ln(mean 1/like) = -2.598717\n",
      "mean(-Ln(like)) = -4.707366\n",
      "-Ln(mean like)  = -5.434484\n",
      "WARNING:root:outlier fraction 0.0010596962204168139 \n"
     ]
    },
    {
     "name": "stdout",
     "output_type": "stream",
     "text": [
      "producing files in directory  ./\n",
      "/Users/boris/Work/CLASS-SZ/SO-SZ/cosmopower-organization/notebooks/chains/planck_lensing_and_sdssfs8.2.txt\n",
      "/Users/boris/Work/CLASS-SZ/SO-SZ/cosmopower-organization/notebooks/chains/planck_lensing_and_sdssfs8.3.txt\n",
      "/Users/boris/Work/CLASS-SZ/SO-SZ/cosmopower-organization/notebooks/chains/planck_lensing_and_sdssfs8.1.txt\n",
      "/Users/boris/Work/CLASS-SZ/SO-SZ/cosmopower-organization/notebooks/chains/planck_lensing_and_sdssfs8.4.txt\n",
      "Removed 0.2 as burn in\n",
      "Number of chains used =  4\n",
      " var(mean)/mean(var), remaining chains, worst e-value: R-1 =       0.02568\n",
      "RL: Not enough samples to estimate convergence stats\n",
      "using 3236 rows, 13 parameters; mean weight 2.7095179233621756, tot weight 8768.0\n",
      "Approx indep samples (N/corr length): 330\n",
      "Equiv number of single samples (sum w)/max(w): 237\n",
      "Effective number of weighted samples (sum w)^2/sum(w^2): 1632\n",
      "Best fit sample -log(Like) = -7.031632\n",
      "Ln(mean 1/like) = -2.598717\n",
      "mean(-Ln(like)) = -4.707366\n",
      "-Ln(mean like)  = -5.434484\n",
      "adding derived parameters\n"
     ]
    },
    {
     "name": "stderr",
     "output_type": "stream",
     "text": [
      "WARNING:root:outlier fraction 0.0010596962204168139 \n",
      "WARNING:root:outlier fraction 0.0010596962204168139 \n"
     ]
    },
    {
     "name": "stdout",
     "output_type": "stream",
     "text": [
      "S8d5:  S_8 = 0.802\\pm 0.032\n",
      "CPU times: user 361 ms, sys: 45.9 ms, total: 406 ms\n",
      "Wall time: 1.02 s\n"
     ]
    }
   ],
   "source": [
    "%%time\n",
    "path_to_chains = []\n",
    "final_chain_dir_list = []\n",
    "\n",
    "\n",
    "final_chain_dir_list.append(path_to_chains_dir +'planck_lensing_and_sdssfs8')\n",
    "path_to_chains.append(path_to_chains_dir)\n",
    "\n",
    "current_path = os.path.abspath(\"\")\n",
    "\n",
    "for i in range(len(final_chain_dir_list)):\n",
    "    os.chdir(path_to_chains[i])\n",
    "    print('running getdist on chains ' + final_chain_dir_list[i])\n",
    "    str_cmd_subprocess = [\"nice\",\"-n\",\"19\",'getdist',final_chain_dir_list[i],\"--ignore_rows\",\"0.2\"]\n",
    "    subprocess.call(str_cmd_subprocess)\n",
    "os.chdir(current_path)\n",
    "\n",
    "all_samples = []\n",
    "\n",
    "i=0\n",
    "readsamps = loadMCSamples(final_chain_dir_list[i],settings={'ignore_rows':0.3})\n",
    "p = readsamps.getParams()\n",
    "print('adding derived parameters')\n",
    "params_cp = {}\n",
    "params_cp['omega_b'] = p.omega_b\n",
    "params_cp['omega_cdm'] = p.omega_cdm\n",
    "params_cp['ln10^{10}A_s'] = p.logA\n",
    "params_cp['n_s'] = p.n_s\n",
    "params_cp['tau_reio'] = np.repeat(0.055,len(p.logA))\n",
    "params_cp['H0'] = p.H0\n",
    "predicted_der_params = cp_der_nn.ten_to_predictions_np(params_cp)\n",
    "readsamps.addDerived(predicted_der_params[:,1],name='sigma8',label=r'\\sigma_8')\n",
    "readsamps.addDerived(predicted_der_params[:,0],name='theta_s_1e2',label=r'100*\\theta_s')\n",
    "p = readsamps.getParams()\n",
    "readsamps.addDerived((p.H0/100.)**-2.*(p.omega_b+p.omega_cdm),name='Ombc',label=r'\\Omega_m')\n",
    "\n",
    "p = readsamps.getParams()\n",
    "readsamps.addDerived(p.sigma8*(p.Ombc/0.3)**0.5,name='S8d5',label=r'S_8')\n",
    "Fs = readsamps.getInlineLatex('S8d5',limit=1)\n",
    "print('S8d5: ',Fs)\n",
    "\n",
    "samples = readsamps\n",
    "samples.updateBaseStatistics()\n",
    "all_samples.append(samples)"
   ]
  },
  {
   "cell_type": "markdown",
   "id": "d706d8e5-5e40-46fd-98f2-797b71426d1b",
   "metadata": {},
   "source": [
    "## Plot contours"
   ]
  },
  {
   "cell_type": "code",
   "execution_count": 18,
   "id": "68620086-6d94-4d0d-be29-6338fb20cb7c",
   "metadata": {},
   "outputs": [
    {
     "data": {
      "image/png": "[encoded data removed]",
      "text/plain": [
       "<Figure size 1000x1000 with 36 Axes>"
      ]
     },
     "metadata": {},
     "output_type": "display_data"
    }
   ],
   "source": [
    "g = plots.getSubplotPlotter()\n",
    "g.settings.fig_width_inch = 10\n",
    "\n",
    "g.settings.axes_fontsize = 10\n",
    "g.settings.lab_fontsize =13\n",
    "\n",
    "g.settings.legend_fontsize = 14\n",
    "g.settings.alpha_filled_add=0.1\n",
    "g.settings.colorbar_label_pad = 20.\n",
    "g.settings.figure_legend_frame = False\n",
    "\n",
    "g.settings.title_limit=0 #uncomment if you want to display marg stats.\n",
    "\n",
    "sample_list = []\n",
    "for s in range(len(all_samples)):\n",
    "\n",
    "    sample_list.append(all_samples[s])\n",
    "    \n",
    "g.triangle_plot(sample_list,\n",
    "    [\n",
    "    'omega_cdm',\n",
    "    'omega_b',\n",
    "    'logA',\n",
    "    'n_s',\n",
    "    'H0',\n",
    "    'sigma8',\n",
    "    'Ombc',\n",
    "    'S8d5',\n",
    "    ],\n",
    "\n",
    "    filled=[True,False],\n",
    "    legend_labels=[ 'cosmopower'],\n",
    "    legend_loc='upper right',\n",
    "    colors = ['blue','red','green','red'],\n",
    "    line_args=[{'lw':'1','color':'blue'},{'lw':'1','color':'red'},{'lw':'1','color':'green'},{'lw':'1','color':'r'}]\n",
    "                   )\n",
    "\n",
    "\n",
    "g.export(path_to_chains_dir +'planck_lensing_and_sdssfs8_contours.pdf')"
   ]
  },
  {
   "cell_type": "code",
   "execution_count": null,
   "id": "76d795f9-50e1-4351-90e7-4ca422561f7f",
   "metadata": {},
   "outputs": [],
   "source": []
  }
 ],
 "metadata": {
  "kernelspec": {
   "display_name": "Python 3 (ipykernel)",
   "language": "python",
   "name": "python3"
  },
  "language_info": {
   "codemirror_mode": {
    "name": "ipython",
    "version": 3
   },
   "file_extension": ".py",
   "mimetype": "text/x-python",
   "name": "python",
   "nbconvert_exporter": "python",
   "pygments_lexer": "ipython3",
   "version": "3.9.13"
  }
 },
 "nbformat": 4,
 "nbformat_minor": 5
}
